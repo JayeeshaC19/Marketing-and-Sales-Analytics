{
 "cells": [
  {
   "cell_type": "code",
   "execution_count": 300,
   "id": "c0ec7140-c35c-4726-8c9c-720dc5024ec9",
   "metadata": {},
   "outputs": [],
   "source": [
    "import numpy as np\n",
    "import pandas as pd\n",
    "import seaborn as sns\n",
    "import matplotlib.pyplot as plt\n",
    "%matplotlib inline"
   ]
  },
  {
   "cell_type": "code",
   "execution_count": 302,
   "id": "59a898d6-3e58-449b-b37a-03cb2c6c82c2",
   "metadata": {},
   "outputs": [
    {
     "data": {
      "text/html": [
       "<div>\n",
       "<style scoped>\n",
       "    .dataframe tbody tr th:only-of-type {\n",
       "        vertical-align: middle;\n",
       "    }\n",
       "\n",
       "    .dataframe tbody tr th {\n",
       "        vertical-align: top;\n",
       "    }\n",
       "\n",
       "    .dataframe thead th {\n",
       "        text-align: right;\n",
       "    }\n",
       "</style>\n",
       "<table border=\"1\" class=\"dataframe\">\n",
       "  <thead>\n",
       "    <tr style=\"text-align: right;\">\n",
       "      <th></th>\n",
       "      <th>Date</th>\n",
       "      <th>Bill Number</th>\n",
       "      <th>Item Desc</th>\n",
       "      <th>Time</th>\n",
       "      <th>Quantity</th>\n",
       "      <th>Rate</th>\n",
       "      <th>Tax</th>\n",
       "      <th>Discount</th>\n",
       "      <th>Total</th>\n",
       "      <th>Category</th>\n",
       "    </tr>\n",
       "  </thead>\n",
       "  <tbody>\n",
       "    <tr>\n",
       "      <th>0</th>\n",
       "      <td>2010-04-01</td>\n",
       "      <td>G0470115</td>\n",
       "      <td>QUA  MINERAL WATER(1000ML)</td>\n",
       "      <td>13:15:11</td>\n",
       "      <td>1</td>\n",
       "      <td>50.0</td>\n",
       "      <td>11.88</td>\n",
       "      <td>0.0</td>\n",
       "      <td>61.88</td>\n",
       "      <td>BEVERAGE</td>\n",
       "    </tr>\n",
       "    <tr>\n",
       "      <th>1</th>\n",
       "      <td>2010-04-01</td>\n",
       "      <td>G0470115</td>\n",
       "      <td>MONSOON MALABAR (AULAIT)</td>\n",
       "      <td>13:15:11</td>\n",
       "      <td>1</td>\n",
       "      <td>100.0</td>\n",
       "      <td>23.75</td>\n",
       "      <td>0.0</td>\n",
       "      <td>123.75</td>\n",
       "      <td>BEVERAGE</td>\n",
       "    </tr>\n",
       "    <tr>\n",
       "      <th>2</th>\n",
       "      <td>2010-04-01</td>\n",
       "      <td>G0470116</td>\n",
       "      <td>MASALA CHAI CUTTING</td>\n",
       "      <td>13:17:35</td>\n",
       "      <td>1</td>\n",
       "      <td>40.0</td>\n",
       "      <td>9.50</td>\n",
       "      <td>0.0</td>\n",
       "      <td>49.50</td>\n",
       "      <td>BEVERAGE</td>\n",
       "    </tr>\n",
       "    <tr>\n",
       "      <th>3</th>\n",
       "      <td>2010-04-01</td>\n",
       "      <td>G0470117</td>\n",
       "      <td>QUA  MINERAL WATER(1000ML)</td>\n",
       "      <td>13:19:55</td>\n",
       "      <td>1</td>\n",
       "      <td>50.0</td>\n",
       "      <td>11.88</td>\n",
       "      <td>0.0</td>\n",
       "      <td>61.88</td>\n",
       "      <td>BEVERAGE</td>\n",
       "    </tr>\n",
       "    <tr>\n",
       "      <th>4</th>\n",
       "      <td>2010-04-01</td>\n",
       "      <td>G0470283</td>\n",
       "      <td>MOROCCAN MINT TEA</td>\n",
       "      <td>01:20:18</td>\n",
       "      <td>1</td>\n",
       "      <td>45.0</td>\n",
       "      <td>10.69</td>\n",
       "      <td>0.0</td>\n",
       "      <td>55.69</td>\n",
       "      <td>BEVERAGE</td>\n",
       "    </tr>\n",
       "  </tbody>\n",
       "</table>\n",
       "</div>"
      ],
      "text/plain": [
       "        Date Bill Number                        Item Desc      Time  Quantity  \\\n",
       "0 2010-04-01     G0470115  QUA  MINERAL WATER(1000ML)      13:15:11         1   \n",
       "1 2010-04-01     G0470115  MONSOON MALABAR (AULAIT)        13:15:11         1   \n",
       "2 2010-04-01     G0470116  MASALA CHAI CUTTING             13:17:35         1   \n",
       "3 2010-04-01     G0470117  QUA  MINERAL WATER(1000ML)      13:19:55         1   \n",
       "4 2010-04-01     G0470283  MOROCCAN MINT TEA               01:20:18         1   \n",
       "\n",
       "    Rate    Tax  Discount   Total  Category  \n",
       "0   50.0  11.88       0.0   61.88  BEVERAGE  \n",
       "1  100.0  23.75       0.0  123.75  BEVERAGE  \n",
       "2   40.0   9.50       0.0   49.50  BEVERAGE  \n",
       "3   50.0  11.88       0.0   61.88  BEVERAGE  \n",
       "4   45.0  10.69       0.0   55.69  BEVERAGE  "
      ]
     },
     "execution_count": 302,
     "metadata": {},
     "output_type": "execute_result"
    }
   ],
   "source": [
    "df= pd.read_excel(\"E:\\DS Course\\MRA Module\\Cafe_Data_MRA.xlsx\")\n",
    "df.head()"
   ]
  },
  {
   "cell_type": "code",
   "execution_count": 172,
   "id": "0d6be49d-1e8b-4842-a3ec-33a7a3ca9db0",
   "metadata": {},
   "outputs": [
    {
     "data": {
      "text/plain": [
       "(145830, 10)"
      ]
     },
     "execution_count": 172,
     "metadata": {},
     "output_type": "execute_result"
    }
   ],
   "source": [
    "df.shape"
   ]
  },
  {
   "cell_type": "code",
   "execution_count": 310,
   "id": "915f68da-2863-47a5-96a7-2c03cb2baca5",
   "metadata": {},
   "outputs": [
    {
     "data": {
      "text/plain": [
       "680"
      ]
     },
     "execution_count": 310,
     "metadata": {},
     "output_type": "execute_result"
    }
   ],
   "source": [
    "df.duplicated().sum()"
   ]
  },
  {
   "cell_type": "code",
   "execution_count": 312,
   "id": "bec3264f-b135-47b4-b0de-1689b444d8c2",
   "metadata": {},
   "outputs": [
    {
     "data": {
      "text/html": [
       "<div>\n",
       "<style scoped>\n",
       "    .dataframe tbody tr th:only-of-type {\n",
       "        vertical-align: middle;\n",
       "    }\n",
       "\n",
       "    .dataframe tbody tr th {\n",
       "        vertical-align: top;\n",
       "    }\n",
       "\n",
       "    .dataframe thead th {\n",
       "        text-align: right;\n",
       "    }\n",
       "</style>\n",
       "<table border=\"1\" class=\"dataframe\">\n",
       "  <thead>\n",
       "    <tr style=\"text-align: right;\">\n",
       "      <th></th>\n",
       "      <th>Date</th>\n",
       "      <th>Bill Number</th>\n",
       "      <th>Item Desc</th>\n",
       "      <th>Time</th>\n",
       "      <th>Quantity</th>\n",
       "      <th>Rate</th>\n",
       "      <th>Tax</th>\n",
       "      <th>Discount</th>\n",
       "      <th>Total</th>\n",
       "      <th>Category</th>\n",
       "    </tr>\n",
       "  </thead>\n",
       "  <tbody>\n",
       "    <tr>\n",
       "      <th>198</th>\n",
       "      <td>2010-04-01</td>\n",
       "      <td>G0470211</td>\n",
       "      <td>B.M.T. PANINI</td>\n",
       "      <td>19:42:27</td>\n",
       "      <td>1</td>\n",
       "      <td>105.0</td>\n",
       "      <td>24.94</td>\n",
       "      <td>0.0</td>\n",
       "      <td>129.94</td>\n",
       "      <td>FOOD</td>\n",
       "    </tr>\n",
       "    <tr>\n",
       "      <th>199</th>\n",
       "      <td>2010-04-01</td>\n",
       "      <td>G0470211</td>\n",
       "      <td>B.M.T. PANINI</td>\n",
       "      <td>19:42:27</td>\n",
       "      <td>1</td>\n",
       "      <td>105.0</td>\n",
       "      <td>24.94</td>\n",
       "      <td>0.0</td>\n",
       "      <td>129.94</td>\n",
       "      <td>FOOD</td>\n",
       "    </tr>\n",
       "    <tr>\n",
       "      <th>244</th>\n",
       "      <td>2010-04-01</td>\n",
       "      <td>G0470270</td>\n",
       "      <td>B.M.T. PANINI</td>\n",
       "      <td>00:08:20</td>\n",
       "      <td>1</td>\n",
       "      <td>105.0</td>\n",
       "      <td>24.94</td>\n",
       "      <td>0.0</td>\n",
       "      <td>129.94</td>\n",
       "      <td>FOOD</td>\n",
       "    </tr>\n",
       "    <tr>\n",
       "      <th>551</th>\n",
       "      <td>2010-05-01</td>\n",
       "      <td>G0474965</td>\n",
       "      <td>PHILLYCREAM CHEESE &amp;CHILLY PAN</td>\n",
       "      <td>13:33:51</td>\n",
       "      <td>1</td>\n",
       "      <td>105.0</td>\n",
       "      <td>24.94</td>\n",
       "      <td>0.0</td>\n",
       "      <td>129.94</td>\n",
       "      <td>FOOD</td>\n",
       "    </tr>\n",
       "    <tr>\n",
       "      <th>588</th>\n",
       "      <td>2010-05-01</td>\n",
       "      <td>G0475009</td>\n",
       "      <td>B.M.T. PANINI</td>\n",
       "      <td>17:12:21</td>\n",
       "      <td>1</td>\n",
       "      <td>105.0</td>\n",
       "      <td>24.94</td>\n",
       "      <td>0.0</td>\n",
       "      <td>129.94</td>\n",
       "      <td>FOOD</td>\n",
       "    </tr>\n",
       "    <tr>\n",
       "      <th>...</th>\n",
       "      <td>...</td>\n",
       "      <td>...</td>\n",
       "      <td>...</td>\n",
       "      <td>...</td>\n",
       "      <td>...</td>\n",
       "      <td>...</td>\n",
       "      <td>...</td>\n",
       "      <td>...</td>\n",
       "      <td>...</td>\n",
       "      <td>...</td>\n",
       "    </tr>\n",
       "    <tr>\n",
       "      <th>144615</th>\n",
       "      <td>2010-10-31</td>\n",
       "      <td>G0506562</td>\n",
       "      <td>DOPPIO</td>\n",
       "      <td>19:08:48</td>\n",
       "      <td>1</td>\n",
       "      <td>60.0</td>\n",
       "      <td>14.25</td>\n",
       "      <td>0.0</td>\n",
       "      <td>74.25</td>\n",
       "      <td>BEVERAGE</td>\n",
       "    </tr>\n",
       "    <tr>\n",
       "      <th>144727</th>\n",
       "      <td>2010-10-31</td>\n",
       "      <td>G0506566</td>\n",
       "      <td>CHEESE CAKE OF THE WEEK</td>\n",
       "      <td>19:20:52</td>\n",
       "      <td>1</td>\n",
       "      <td>105.0</td>\n",
       "      <td>24.94</td>\n",
       "      <td>0.0</td>\n",
       "      <td>129.94</td>\n",
       "      <td>FOOD</td>\n",
       "    </tr>\n",
       "    <tr>\n",
       "      <th>145129</th>\n",
       "      <td>2010-12-31</td>\n",
       "      <td>G0517963</td>\n",
       "      <td>CAPPUCCINO</td>\n",
       "      <td>20:50:13</td>\n",
       "      <td>1</td>\n",
       "      <td>60.0</td>\n",
       "      <td>14.25</td>\n",
       "      <td>0.0</td>\n",
       "      <td>74.25</td>\n",
       "      <td>BEVERAGE</td>\n",
       "    </tr>\n",
       "    <tr>\n",
       "      <th>145255</th>\n",
       "      <td>2010-12-31</td>\n",
       "      <td>G0517869</td>\n",
       "      <td>PHILLYCREAM CHEESE &amp;CHILLY PAN</td>\n",
       "      <td>15:12:41</td>\n",
       "      <td>1</td>\n",
       "      <td>105.0</td>\n",
       "      <td>24.94</td>\n",
       "      <td>0.0</td>\n",
       "      <td>129.94</td>\n",
       "      <td>FOOD</td>\n",
       "    </tr>\n",
       "    <tr>\n",
       "      <th>145315</th>\n",
       "      <td>2010-12-31</td>\n",
       "      <td>G0518126</td>\n",
       "      <td>PHILLYCREAM CHEESE &amp;CHILLY PAN</td>\n",
       "      <td>05:02:24</td>\n",
       "      <td>1</td>\n",
       "      <td>105.0</td>\n",
       "      <td>24.94</td>\n",
       "      <td>0.0</td>\n",
       "      <td>129.94</td>\n",
       "      <td>FOOD</td>\n",
       "    </tr>\n",
       "  </tbody>\n",
       "</table>\n",
       "<p>680 rows × 10 columns</p>\n",
       "</div>"
      ],
      "text/plain": [
       "             Date Bill Number                        Item Desc      Time  \\\n",
       "198    2010-04-01     G0470211  B.M.T. PANINI                   19:42:27   \n",
       "199    2010-04-01     G0470211  B.M.T. PANINI                   19:42:27   \n",
       "244    2010-04-01     G0470270  B.M.T. PANINI                   00:08:20   \n",
       "551    2010-05-01     G0474965  PHILLYCREAM CHEESE &CHILLY PAN  13:33:51   \n",
       "588    2010-05-01     G0475009  B.M.T. PANINI                   17:12:21   \n",
       "...           ...          ...                             ...       ...   \n",
       "144615 2010-10-31     G0506562  DOPPIO                          19:08:48   \n",
       "144727 2010-10-31     G0506566  CHEESE CAKE OF THE WEEK         19:20:52   \n",
       "145129 2010-12-31     G0517963  CAPPUCCINO                      20:50:13   \n",
       "145255 2010-12-31     G0517869  PHILLYCREAM CHEESE &CHILLY PAN  15:12:41   \n",
       "145315 2010-12-31     G0518126  PHILLYCREAM CHEESE &CHILLY PAN  05:02:24   \n",
       "\n",
       "        Quantity   Rate    Tax  Discount   Total  Category  \n",
       "198            1  105.0  24.94       0.0  129.94      FOOD  \n",
       "199            1  105.0  24.94       0.0  129.94      FOOD  \n",
       "244            1  105.0  24.94       0.0  129.94      FOOD  \n",
       "551            1  105.0  24.94       0.0  129.94      FOOD  \n",
       "588            1  105.0  24.94       0.0  129.94      FOOD  \n",
       "...          ...    ...    ...       ...     ...       ...  \n",
       "144615         1   60.0  14.25       0.0   74.25  BEVERAGE  \n",
       "144727         1  105.0  24.94       0.0  129.94      FOOD  \n",
       "145129         1   60.0  14.25       0.0   74.25  BEVERAGE  \n",
       "145255         1  105.0  24.94       0.0  129.94      FOOD  \n",
       "145315         1  105.0  24.94       0.0  129.94      FOOD  \n",
       "\n",
       "[680 rows x 10 columns]"
      ]
     },
     "execution_count": 312,
     "metadata": {},
     "output_type": "execute_result"
    }
   ],
   "source": [
    "df[df.duplicated()]"
   ]
  },
  {
   "cell_type": "code",
   "execution_count": 320,
   "id": "32526df8-5372-4d4e-b08e-d286a243460f",
   "metadata": {},
   "outputs": [],
   "source": [
    "df.drop(df[df.duplicated()].index,inplace=True,axis=0)"
   ]
  },
  {
   "cell_type": "code",
   "execution_count": 322,
   "id": "81bb5dff-1a3c-45c8-8ab8-3669001403b6",
   "metadata": {},
   "outputs": [
    {
     "data": {
      "text/plain": [
       "0"
      ]
     },
     "execution_count": 322,
     "metadata": {},
     "output_type": "execute_result"
    }
   ],
   "source": [
    "df.duplicated().sum()"
   ]
  },
  {
   "cell_type": "code",
   "execution_count": 324,
   "id": "f52eea52-8baa-417e-935e-1a62e6eef771",
   "metadata": {},
   "outputs": [
    {
     "name": "stdout",
     "output_type": "stream",
     "text": [
      "<class 'pandas.core.frame.DataFrame'>\n",
      "Index: 145150 entries, 0 to 145829\n",
      "Data columns (total 10 columns):\n",
      " #   Column        Non-Null Count   Dtype         \n",
      "---  ------        --------------   -----         \n",
      " 0   Date          145150 non-null  datetime64[ns]\n",
      " 1   Bill Number   145150 non-null  object        \n",
      " 2   Item Desc     145150 non-null  object        \n",
      " 3   Time          145150 non-null  object        \n",
      " 4   Quantity      145150 non-null  int64         \n",
      " 5   Rate          145150 non-null  float64       \n",
      " 6   Tax           145150 non-null  float64       \n",
      " 7   Discount      145150 non-null  float64       \n",
      " 8   Total         145150 non-null  float64       \n",
      " 9   Category      145150 non-null  object        \n",
      "dtypes: datetime64[ns](1), float64(4), int64(1), object(4)\n",
      "memory usage: 12.2+ MB\n"
     ]
    }
   ],
   "source": [
    "df.info()"
   ]
  },
  {
   "cell_type": "code",
   "execution_count": 326,
   "id": "30cf62df-1310-4a0a-bab8-d0699759a7a9",
   "metadata": {},
   "outputs": [
    {
     "data": {
      "text/html": [
       "<div>\n",
       "<style scoped>\n",
       "    .dataframe tbody tr th:only-of-type {\n",
       "        vertical-align: middle;\n",
       "    }\n",
       "\n",
       "    .dataframe tbody tr th {\n",
       "        vertical-align: top;\n",
       "    }\n",
       "\n",
       "    .dataframe thead th {\n",
       "        text-align: right;\n",
       "    }\n",
       "</style>\n",
       "<table border=\"1\" class=\"dataframe\">\n",
       "  <thead>\n",
       "    <tr style=\"text-align: right;\">\n",
       "      <th></th>\n",
       "      <th>count</th>\n",
       "      <th>unique</th>\n",
       "      <th>top</th>\n",
       "      <th>freq</th>\n",
       "      <th>mean</th>\n",
       "      <th>min</th>\n",
       "      <th>25%</th>\n",
       "      <th>50%</th>\n",
       "      <th>75%</th>\n",
       "      <th>max</th>\n",
       "      <th>std</th>\n",
       "    </tr>\n",
       "  </thead>\n",
       "  <tbody>\n",
       "    <tr>\n",
       "      <th>Date</th>\n",
       "      <td>145150</td>\n",
       "      <td>NaN</td>\n",
       "      <td>NaN</td>\n",
       "      <td>NaN</td>\n",
       "      <td>2010-10-04 12:26:23.355149568</td>\n",
       "      <td>2010-04-01 00:00:00</td>\n",
       "      <td>2010-07-10 00:00:00</td>\n",
       "      <td>2010-10-07 00:00:00</td>\n",
       "      <td>2011-01-01 00:00:00</td>\n",
       "      <td>2011-03-31 00:00:00</td>\n",
       "      <td>NaN</td>\n",
       "    </tr>\n",
       "    <tr>\n",
       "      <th>Bill Number</th>\n",
       "      <td>145150</td>\n",
       "      <td>69982</td>\n",
       "      <td>G0490530</td>\n",
       "      <td>23</td>\n",
       "      <td>NaN</td>\n",
       "      <td>NaN</td>\n",
       "      <td>NaN</td>\n",
       "      <td>NaN</td>\n",
       "      <td>NaN</td>\n",
       "      <td>NaN</td>\n",
       "      <td>NaN</td>\n",
       "    </tr>\n",
       "    <tr>\n",
       "      <th>Item Desc</th>\n",
       "      <td>145150</td>\n",
       "      <td>580</td>\n",
       "      <td>NIRVANA HOOKAH SINGLE</td>\n",
       "      <td>8392</td>\n",
       "      <td>NaN</td>\n",
       "      <td>NaN</td>\n",
       "      <td>NaN</td>\n",
       "      <td>NaN</td>\n",
       "      <td>NaN</td>\n",
       "      <td>NaN</td>\n",
       "      <td>NaN</td>\n",
       "    </tr>\n",
       "    <tr>\n",
       "      <th>Time</th>\n",
       "      <td>145150</td>\n",
       "      <td>36200</td>\n",
       "      <td>22:25:36</td>\n",
       "      <td>32</td>\n",
       "      <td>NaN</td>\n",
       "      <td>NaN</td>\n",
       "      <td>NaN</td>\n",
       "      <td>NaN</td>\n",
       "      <td>NaN</td>\n",
       "      <td>NaN</td>\n",
       "      <td>NaN</td>\n",
       "    </tr>\n",
       "    <tr>\n",
       "      <th>Quantity</th>\n",
       "      <td>145150.0</td>\n",
       "      <td>NaN</td>\n",
       "      <td>NaN</td>\n",
       "      <td>NaN</td>\n",
       "      <td>1.121826</td>\n",
       "      <td>1.0</td>\n",
       "      <td>1.0</td>\n",
       "      <td>1.0</td>\n",
       "      <td>1.0</td>\n",
       "      <td>30.0</td>\n",
       "      <td>0.478249</td>\n",
       "    </tr>\n",
       "    <tr>\n",
       "      <th>Rate</th>\n",
       "      <td>145150.0</td>\n",
       "      <td>NaN</td>\n",
       "      <td>NaN</td>\n",
       "      <td>NaN</td>\n",
       "      <td>161.727783</td>\n",
       "      <td>0.01</td>\n",
       "      <td>95.0</td>\n",
       "      <td>125.0</td>\n",
       "      <td>225.0</td>\n",
       "      <td>2100.0</td>\n",
       "      <td>102.213514</td>\n",
       "    </tr>\n",
       "    <tr>\n",
       "      <th>Tax</th>\n",
       "      <td>145150.0</td>\n",
       "      <td>NaN</td>\n",
       "      <td>NaN</td>\n",
       "      <td>NaN</td>\n",
       "      <td>48.93175</td>\n",
       "      <td>0.0</td>\n",
       "      <td>22.56</td>\n",
       "      <td>32.06</td>\n",
       "      <td>72.0</td>\n",
       "      <td>2731.25</td>\n",
       "      <td>40.28672</td>\n",
       "    </tr>\n",
       "    <tr>\n",
       "      <th>Discount</th>\n",
       "      <td>145150.0</td>\n",
       "      <td>NaN</td>\n",
       "      <td>NaN</td>\n",
       "      <td>NaN</td>\n",
       "      <td>0.095307</td>\n",
       "      <td>0.0</td>\n",
       "      <td>0.0</td>\n",
       "      <td>0.0</td>\n",
       "      <td>0.0</td>\n",
       "      <td>825.0</td>\n",
       "      <td>3.728524</td>\n",
       "    </tr>\n",
       "    <tr>\n",
       "      <th>Total</th>\n",
       "      <td>145150.0</td>\n",
       "      <td>NaN</td>\n",
       "      <td>NaN</td>\n",
       "      <td>NaN</td>\n",
       "      <td>224.971683</td>\n",
       "      <td>0.01</td>\n",
       "      <td>117.56</td>\n",
       "      <td>167.06</td>\n",
       "      <td>315.0</td>\n",
       "      <td>14231.25</td>\n",
       "      <td>165.052799</td>\n",
       "    </tr>\n",
       "    <tr>\n",
       "      <th>Category</th>\n",
       "      <td>145150</td>\n",
       "      <td>9</td>\n",
       "      <td>FOOD</td>\n",
       "      <td>56658</td>\n",
       "      <td>NaN</td>\n",
       "      <td>NaN</td>\n",
       "      <td>NaN</td>\n",
       "      <td>NaN</td>\n",
       "      <td>NaN</td>\n",
       "      <td>NaN</td>\n",
       "      <td>NaN</td>\n",
       "    </tr>\n",
       "  </tbody>\n",
       "</table>\n",
       "</div>"
      ],
      "text/plain": [
       "                 count unique                             top   freq  \\\n",
       "Date            145150    NaN                             NaN    NaN   \n",
       "Bill Number     145150  69982                        G0490530     23   \n",
       "Item Desc       145150    580  NIRVANA HOOKAH SINGLE            8392   \n",
       "Time            145150  36200                        22:25:36     32   \n",
       "Quantity      145150.0    NaN                             NaN    NaN   \n",
       "Rate          145150.0    NaN                             NaN    NaN   \n",
       "Tax           145150.0    NaN                             NaN    NaN   \n",
       "Discount      145150.0    NaN                             NaN    NaN   \n",
       "Total         145150.0    NaN                             NaN    NaN   \n",
       "Category        145150      9                            FOOD  56658   \n",
       "\n",
       "                                       mean                  min  \\\n",
       "Date          2010-10-04 12:26:23.355149568  2010-04-01 00:00:00   \n",
       "Bill Number                             NaN                  NaN   \n",
       "Item Desc                               NaN                  NaN   \n",
       "Time                                    NaN                  NaN   \n",
       "Quantity                           1.121826                  1.0   \n",
       "Rate                             161.727783                 0.01   \n",
       "Tax                                48.93175                  0.0   \n",
       "Discount                           0.095307                  0.0   \n",
       "Total                            224.971683                 0.01   \n",
       "Category                                NaN                  NaN   \n",
       "\n",
       "                              25%                  50%                  75%  \\\n",
       "Date          2010-07-10 00:00:00  2010-10-07 00:00:00  2011-01-01 00:00:00   \n",
       "Bill Number                   NaN                  NaN                  NaN   \n",
       "Item Desc                     NaN                  NaN                  NaN   \n",
       "Time                          NaN                  NaN                  NaN   \n",
       "Quantity                      1.0                  1.0                  1.0   \n",
       "Rate                         95.0                125.0                225.0   \n",
       "Tax                         22.56                32.06                 72.0   \n",
       "Discount                      0.0                  0.0                  0.0   \n",
       "Total                      117.56               167.06                315.0   \n",
       "Category                      NaN                  NaN                  NaN   \n",
       "\n",
       "                              max         std  \n",
       "Date          2011-03-31 00:00:00         NaN  \n",
       "Bill Number                   NaN         NaN  \n",
       "Item Desc                     NaN         NaN  \n",
       "Time                          NaN         NaN  \n",
       "Quantity                     30.0    0.478249  \n",
       "Rate                       2100.0  102.213514  \n",
       "Tax                       2731.25    40.28672  \n",
       "Discount                    825.0    3.728524  \n",
       "Total                    14231.25  165.052799  \n",
       "Category                      NaN         NaN  "
      ]
     },
     "execution_count": 326,
     "metadata": {},
     "output_type": "execute_result"
    }
   ],
   "source": [
    "df.describe(include='all').T"
   ]
  },
  {
   "cell_type": "code",
   "execution_count": 175,
   "id": "71d2ec45-616d-47a5-bf1c-23f259675e6a",
   "metadata": {},
   "outputs": [],
   "source": [
    "df['Date']=pd.to_datetime(df['Date'])\n",
    "df['datetime'] = pd.to_datetime(df['Date'].astype(str) + ' ' + df['Time'].astype(str))\n",
    "df.set_index(\"datetime\", inplace=True)\n",
    "df.drop(columns=[\"Date\",\"Time\"], inplace=True)"
   ]
  },
  {
   "cell_type": "code",
   "execution_count": 176,
   "id": "a680184b-898d-46d3-bb36-f9edba62f092",
   "metadata": {},
   "outputs": [
    {
     "data": {
      "text/html": [
       "<div>\n",
       "<style scoped>\n",
       "    .dataframe tbody tr th:only-of-type {\n",
       "        vertical-align: middle;\n",
       "    }\n",
       "\n",
       "    .dataframe tbody tr th {\n",
       "        vertical-align: top;\n",
       "    }\n",
       "\n",
       "    .dataframe thead th {\n",
       "        text-align: right;\n",
       "    }\n",
       "</style>\n",
       "<table border=\"1\" class=\"dataframe\">\n",
       "  <thead>\n",
       "    <tr style=\"text-align: right;\">\n",
       "      <th></th>\n",
       "      <th>Bill Number</th>\n",
       "      <th>Item Desc</th>\n",
       "      <th>Quantity</th>\n",
       "      <th>Rate</th>\n",
       "      <th>Tax</th>\n",
       "      <th>Discount</th>\n",
       "      <th>Total</th>\n",
       "      <th>Category</th>\n",
       "    </tr>\n",
       "    <tr>\n",
       "      <th>datetime</th>\n",
       "      <th></th>\n",
       "      <th></th>\n",
       "      <th></th>\n",
       "      <th></th>\n",
       "      <th></th>\n",
       "      <th></th>\n",
       "      <th></th>\n",
       "      <th></th>\n",
       "    </tr>\n",
       "  </thead>\n",
       "  <tbody>\n",
       "    <tr>\n",
       "      <th>2010-04-01 13:15:11</th>\n",
       "      <td>G0470115</td>\n",
       "      <td>QUA  MINERAL WATER(1000ML)</td>\n",
       "      <td>1</td>\n",
       "      <td>50.0</td>\n",
       "      <td>11.88</td>\n",
       "      <td>0.0</td>\n",
       "      <td>61.88</td>\n",
       "      <td>BEVERAGE</td>\n",
       "    </tr>\n",
       "    <tr>\n",
       "      <th>2010-04-01 13:15:11</th>\n",
       "      <td>G0470115</td>\n",
       "      <td>MONSOON MALABAR (AULAIT)</td>\n",
       "      <td>1</td>\n",
       "      <td>100.0</td>\n",
       "      <td>23.75</td>\n",
       "      <td>0.0</td>\n",
       "      <td>123.75</td>\n",
       "      <td>BEVERAGE</td>\n",
       "    </tr>\n",
       "    <tr>\n",
       "      <th>2010-04-01 13:17:35</th>\n",
       "      <td>G0470116</td>\n",
       "      <td>MASALA CHAI CUTTING</td>\n",
       "      <td>1</td>\n",
       "      <td>40.0</td>\n",
       "      <td>9.50</td>\n",
       "      <td>0.0</td>\n",
       "      <td>49.50</td>\n",
       "      <td>BEVERAGE</td>\n",
       "    </tr>\n",
       "    <tr>\n",
       "      <th>2010-04-01 13:19:55</th>\n",
       "      <td>G0470117</td>\n",
       "      <td>QUA  MINERAL WATER(1000ML)</td>\n",
       "      <td>1</td>\n",
       "      <td>50.0</td>\n",
       "      <td>11.88</td>\n",
       "      <td>0.0</td>\n",
       "      <td>61.88</td>\n",
       "      <td>BEVERAGE</td>\n",
       "    </tr>\n",
       "    <tr>\n",
       "      <th>2010-04-01 01:20:18</th>\n",
       "      <td>G0470283</td>\n",
       "      <td>MOROCCAN MINT TEA</td>\n",
       "      <td>1</td>\n",
       "      <td>45.0</td>\n",
       "      <td>10.69</td>\n",
       "      <td>0.0</td>\n",
       "      <td>55.69</td>\n",
       "      <td>BEVERAGE</td>\n",
       "    </tr>\n",
       "  </tbody>\n",
       "</table>\n",
       "</div>"
      ],
      "text/plain": [
       "                    Bill Number                        Item Desc  Quantity  \\\n",
       "datetime                                                                     \n",
       "2010-04-01 13:15:11     G0470115  QUA  MINERAL WATER(1000ML)             1   \n",
       "2010-04-01 13:15:11     G0470115  MONSOON MALABAR (AULAIT)               1   \n",
       "2010-04-01 13:17:35     G0470116  MASALA CHAI CUTTING                    1   \n",
       "2010-04-01 13:19:55     G0470117  QUA  MINERAL WATER(1000ML)             1   \n",
       "2010-04-01 01:20:18     G0470283  MOROCCAN MINT TEA                      1   \n",
       "\n",
       "                      Rate    Tax  Discount   Total  Category  \n",
       "datetime                                                       \n",
       "2010-04-01 13:15:11   50.0  11.88       0.0   61.88  BEVERAGE  \n",
       "2010-04-01 13:15:11  100.0  23.75       0.0  123.75  BEVERAGE  \n",
       "2010-04-01 13:17:35   40.0   9.50       0.0   49.50  BEVERAGE  \n",
       "2010-04-01 13:19:55   50.0  11.88       0.0   61.88  BEVERAGE  \n",
       "2010-04-01 01:20:18   45.0  10.69       0.0   55.69  BEVERAGE  "
      ]
     },
     "execution_count": 176,
     "metadata": {},
     "output_type": "execute_result"
    }
   ],
   "source": [
    "df.head()"
   ]
  },
  {
   "cell_type": "code",
   "execution_count": 271,
   "id": "e420f7c9-81a7-40d4-a73a-1a409a22dd97",
   "metadata": {},
   "outputs": [],
   "source": [
    "df[\"TimeStamp\"]=df.index\n",
    "df.to_excel(\"cafe_sales.xlsx\", index=False)"
   ]
  },
  {
   "cell_type": "code",
   "execution_count": 273,
   "id": "1334518d-48ef-41f2-9579-b2816e3cfec1",
   "metadata": {},
   "outputs": [
    {
     "data": {
      "text/html": [
       "<div>\n",
       "<style scoped>\n",
       "    .dataframe tbody tr th:only-of-type {\n",
       "        vertical-align: middle;\n",
       "    }\n",
       "\n",
       "    .dataframe tbody tr th {\n",
       "        vertical-align: top;\n",
       "    }\n",
       "\n",
       "    .dataframe thead th {\n",
       "        text-align: right;\n",
       "    }\n",
       "</style>\n",
       "<table border=\"1\" class=\"dataframe\">\n",
       "  <thead>\n",
       "    <tr style=\"text-align: right;\">\n",
       "      <th></th>\n",
       "      <th>Bill Number</th>\n",
       "      <th>Item Desc</th>\n",
       "      <th>Quantity</th>\n",
       "      <th>Rate</th>\n",
       "      <th>Tax</th>\n",
       "      <th>Discount</th>\n",
       "      <th>Total</th>\n",
       "      <th>Category</th>\n",
       "      <th>TimeStamp</th>\n",
       "    </tr>\n",
       "    <tr>\n",
       "      <th>datetime</th>\n",
       "      <th></th>\n",
       "      <th></th>\n",
       "      <th></th>\n",
       "      <th></th>\n",
       "      <th></th>\n",
       "      <th></th>\n",
       "      <th></th>\n",
       "      <th></th>\n",
       "      <th></th>\n",
       "    </tr>\n",
       "  </thead>\n",
       "  <tbody>\n",
       "    <tr>\n",
       "      <th>2010-04-01 13:15:11</th>\n",
       "      <td>G0470115</td>\n",
       "      <td>QUA  MINERAL WATER(1000ML)</td>\n",
       "      <td>1</td>\n",
       "      <td>50.0</td>\n",
       "      <td>11.88</td>\n",
       "      <td>0.0</td>\n",
       "      <td>61.88</td>\n",
       "      <td>BEVERAGE</td>\n",
       "      <td>2010-04-01 13:15:11</td>\n",
       "    </tr>\n",
       "    <tr>\n",
       "      <th>2010-04-01 13:15:11</th>\n",
       "      <td>G0470115</td>\n",
       "      <td>MONSOON MALABAR (AULAIT)</td>\n",
       "      <td>1</td>\n",
       "      <td>100.0</td>\n",
       "      <td>23.75</td>\n",
       "      <td>0.0</td>\n",
       "      <td>123.75</td>\n",
       "      <td>BEVERAGE</td>\n",
       "      <td>2010-04-01 13:15:11</td>\n",
       "    </tr>\n",
       "    <tr>\n",
       "      <th>2010-04-01 13:17:35</th>\n",
       "      <td>G0470116</td>\n",
       "      <td>MASALA CHAI CUTTING</td>\n",
       "      <td>1</td>\n",
       "      <td>40.0</td>\n",
       "      <td>9.50</td>\n",
       "      <td>0.0</td>\n",
       "      <td>49.50</td>\n",
       "      <td>BEVERAGE</td>\n",
       "      <td>2010-04-01 13:17:35</td>\n",
       "    </tr>\n",
       "    <tr>\n",
       "      <th>2010-04-01 13:19:55</th>\n",
       "      <td>G0470117</td>\n",
       "      <td>QUA  MINERAL WATER(1000ML)</td>\n",
       "      <td>1</td>\n",
       "      <td>50.0</td>\n",
       "      <td>11.88</td>\n",
       "      <td>0.0</td>\n",
       "      <td>61.88</td>\n",
       "      <td>BEVERAGE</td>\n",
       "      <td>2010-04-01 13:19:55</td>\n",
       "    </tr>\n",
       "    <tr>\n",
       "      <th>2010-04-01 01:20:18</th>\n",
       "      <td>G0470283</td>\n",
       "      <td>MOROCCAN MINT TEA</td>\n",
       "      <td>1</td>\n",
       "      <td>45.0</td>\n",
       "      <td>10.69</td>\n",
       "      <td>0.0</td>\n",
       "      <td>55.69</td>\n",
       "      <td>BEVERAGE</td>\n",
       "      <td>2010-04-01 01:20:18</td>\n",
       "    </tr>\n",
       "  </tbody>\n",
       "</table>\n",
       "</div>"
      ],
      "text/plain": [
       "                    Bill Number                        Item Desc  Quantity  \\\n",
       "datetime                                                                     \n",
       "2010-04-01 13:15:11     G0470115  QUA  MINERAL WATER(1000ML)             1   \n",
       "2010-04-01 13:15:11     G0470115  MONSOON MALABAR (AULAIT)               1   \n",
       "2010-04-01 13:17:35     G0470116  MASALA CHAI CUTTING                    1   \n",
       "2010-04-01 13:19:55     G0470117  QUA  MINERAL WATER(1000ML)             1   \n",
       "2010-04-01 01:20:18     G0470283  MOROCCAN MINT TEA                      1   \n",
       "\n",
       "                      Rate    Tax  Discount   Total  Category  \\\n",
       "datetime                                                        \n",
       "2010-04-01 13:15:11   50.0  11.88       0.0   61.88  BEVERAGE   \n",
       "2010-04-01 13:15:11  100.0  23.75       0.0  123.75  BEVERAGE   \n",
       "2010-04-01 13:17:35   40.0   9.50       0.0   49.50  BEVERAGE   \n",
       "2010-04-01 13:19:55   50.0  11.88       0.0   61.88  BEVERAGE   \n",
       "2010-04-01 01:20:18   45.0  10.69       0.0   55.69  BEVERAGE   \n",
       "\n",
       "                              TimeStamp  \n",
       "datetime                                 \n",
       "2010-04-01 13:15:11 2010-04-01 13:15:11  \n",
       "2010-04-01 13:15:11 2010-04-01 13:15:11  \n",
       "2010-04-01 13:17:35 2010-04-01 13:17:35  \n",
       "2010-04-01 13:19:55 2010-04-01 13:19:55  \n",
       "2010-04-01 01:20:18 2010-04-01 01:20:18  "
      ]
     },
     "execution_count": 273,
     "metadata": {},
     "output_type": "execute_result"
    }
   ],
   "source": [
    "df.head()"
   ]
  },
  {
   "cell_type": "code",
   "execution_count": 177,
   "id": "9940a824-8e5f-45b9-b8a8-3e1adb89d9f1",
   "metadata": {},
   "outputs": [
    {
     "data": {
      "text/plain": [
       "Category\n",
       "FOOD                57023\n",
       "BEVERAGE            43573\n",
       "TOBACCO             36496\n",
       "LIQUOR               6200\n",
       "MISC                 1187\n",
       "WINES                 809\n",
       "MERCHANDISE           487\n",
       "LIQUOR & TOBACCO       54\n",
       "LIQUOR                  1\n",
       "Name: count, dtype: int64"
      ]
     },
     "execution_count": 177,
     "metadata": {},
     "output_type": "execute_result"
    }
   ],
   "source": [
    "df.Category.value_counts()"
   ]
  },
  {
   "cell_type": "code",
   "execution_count": 336,
   "id": "d0478261-3f6c-47d6-bace-0e92ffd0ee11",
   "metadata": {},
   "outputs": [
    {
     "data": {
      "text/html": [
       "<div>\n",
       "<style scoped>\n",
       "    .dataframe tbody tr th:only-of-type {\n",
       "        vertical-align: middle;\n",
       "    }\n",
       "\n",
       "    .dataframe tbody tr th {\n",
       "        vertical-align: top;\n",
       "    }\n",
       "\n",
       "    .dataframe thead th {\n",
       "        text-align: right;\n",
       "    }\n",
       "</style>\n",
       "<table border=\"1\" class=\"dataframe\">\n",
       "  <thead>\n",
       "    <tr style=\"text-align: right;\">\n",
       "      <th></th>\n",
       "      <th>Date</th>\n",
       "      <th>Bill Number</th>\n",
       "      <th>Item Desc</th>\n",
       "      <th>Time</th>\n",
       "      <th>Quantity</th>\n",
       "      <th>Rate</th>\n",
       "      <th>Tax</th>\n",
       "      <th>Discount</th>\n",
       "      <th>Total</th>\n",
       "      <th>Category</th>\n",
       "    </tr>\n",
       "  </thead>\n",
       "  <tbody>\n",
       "    <tr>\n",
       "      <th>258</th>\n",
       "      <td>2010-04-01</td>\n",
       "      <td>N0027835</td>\n",
       "      <td>CARLSBERG</td>\n",
       "      <td>13:37:13</td>\n",
       "      <td>1</td>\n",
       "      <td>120.0</td>\n",
       "      <td>37.50</td>\n",
       "      <td>0.0</td>\n",
       "      <td>157.50</td>\n",
       "      <td>LIQUOR</td>\n",
       "    </tr>\n",
       "    <tr>\n",
       "      <th>259</th>\n",
       "      <td>2010-04-01</td>\n",
       "      <td>N0027836</td>\n",
       "      <td>CARLSBERG</td>\n",
       "      <td>13:55:17</td>\n",
       "      <td>1</td>\n",
       "      <td>120.0</td>\n",
       "      <td>37.50</td>\n",
       "      <td>0.0</td>\n",
       "      <td>157.50</td>\n",
       "      <td>LIQUOR</td>\n",
       "    </tr>\n",
       "    <tr>\n",
       "      <th>260</th>\n",
       "      <td>2010-04-01</td>\n",
       "      <td>N0027837</td>\n",
       "      <td>TUBORG</td>\n",
       "      <td>15:30:42</td>\n",
       "      <td>2</td>\n",
       "      <td>100.0</td>\n",
       "      <td>62.50</td>\n",
       "      <td>0.0</td>\n",
       "      <td>262.50</td>\n",
       "      <td>LIQUOR</td>\n",
       "    </tr>\n",
       "    <tr>\n",
       "      <th>261</th>\n",
       "      <td>2010-04-01</td>\n",
       "      <td>N0027838</td>\n",
       "      <td>TUBORG</td>\n",
       "      <td>16:16:40</td>\n",
       "      <td>1</td>\n",
       "      <td>100.0</td>\n",
       "      <td>31.25</td>\n",
       "      <td>0.0</td>\n",
       "      <td>131.25</td>\n",
       "      <td>LIQUOR</td>\n",
       "    </tr>\n",
       "    <tr>\n",
       "      <th>262</th>\n",
       "      <td>2010-04-01</td>\n",
       "      <td>N0027840</td>\n",
       "      <td>CARLSBERG</td>\n",
       "      <td>18:57:51</td>\n",
       "      <td>1</td>\n",
       "      <td>120.0</td>\n",
       "      <td>37.50</td>\n",
       "      <td>0.0</td>\n",
       "      <td>157.50</td>\n",
       "      <td>LIQUOR</td>\n",
       "    </tr>\n",
       "    <tr>\n",
       "      <th>...</th>\n",
       "      <td>...</td>\n",
       "      <td>...</td>\n",
       "      <td>...</td>\n",
       "      <td>...</td>\n",
       "      <td>...</td>\n",
       "      <td>...</td>\n",
       "      <td>...</td>\n",
       "      <td>...</td>\n",
       "      <td>...</td>\n",
       "      <td>...</td>\n",
       "    </tr>\n",
       "    <tr>\n",
       "      <th>145825</th>\n",
       "      <td>2010-05-22</td>\n",
       "      <td>N0028716</td>\n",
       "      <td>ZINZI WHITE  (GLS)</td>\n",
       "      <td>21:43:55</td>\n",
       "      <td>2</td>\n",
       "      <td>150.0</td>\n",
       "      <td>78.00</td>\n",
       "      <td>0.0</td>\n",
       "      <td>378.00</td>\n",
       "      <td>LIQUOR</td>\n",
       "    </tr>\n",
       "    <tr>\n",
       "      <th>145826</th>\n",
       "      <td>2010-04-27</td>\n",
       "      <td>N0028343</td>\n",
       "      <td>ZINZI WHITE  (GLS)</td>\n",
       "      <td>20:52:11</td>\n",
       "      <td>2</td>\n",
       "      <td>150.0</td>\n",
       "      <td>78.00</td>\n",
       "      <td>0.0</td>\n",
       "      <td>378.00</td>\n",
       "      <td>LIQUOR</td>\n",
       "    </tr>\n",
       "    <tr>\n",
       "      <th>145827</th>\n",
       "      <td>2010-05-28</td>\n",
       "      <td>N0028835</td>\n",
       "      <td>ZINZI WHITE  (GLS)</td>\n",
       "      <td>01:03:37</td>\n",
       "      <td>3</td>\n",
       "      <td>150.0</td>\n",
       "      <td>117.00</td>\n",
       "      <td>0.0</td>\n",
       "      <td>567.00</td>\n",
       "      <td>LIQUOR</td>\n",
       "    </tr>\n",
       "    <tr>\n",
       "      <th>145828</th>\n",
       "      <td>2010-04-30</td>\n",
       "      <td>N0028399</td>\n",
       "      <td>ZINZI WHITE  (GLS)</td>\n",
       "      <td>23:44:37</td>\n",
       "      <td>1</td>\n",
       "      <td>150.0</td>\n",
       "      <td>39.00</td>\n",
       "      <td>0.0</td>\n",
       "      <td>189.00</td>\n",
       "      <td>LIQUOR</td>\n",
       "    </tr>\n",
       "    <tr>\n",
       "      <th>145829</th>\n",
       "      <td>2010-07-09</td>\n",
       "      <td>N0029472</td>\n",
       "      <td>ZINZI WHITE (BTL)</td>\n",
       "      <td>00:31:51</td>\n",
       "      <td>1</td>\n",
       "      <td>700.0</td>\n",
       "      <td>182.00</td>\n",
       "      <td>0.0</td>\n",
       "      <td>882.00</td>\n",
       "      <td>LIQUOR</td>\n",
       "    </tr>\n",
       "  </tbody>\n",
       "</table>\n",
       "<p>6199 rows × 10 columns</p>\n",
       "</div>"
      ],
      "text/plain": [
       "             Date Bill Number                        Item Desc      Time  \\\n",
       "258    2010-04-01     N0027835  CARLSBERG                       13:37:13   \n",
       "259    2010-04-01     N0027836  CARLSBERG                       13:55:17   \n",
       "260    2010-04-01     N0027837  TUBORG                          15:30:42   \n",
       "261    2010-04-01     N0027838  TUBORG                          16:16:40   \n",
       "262    2010-04-01     N0027840  CARLSBERG                       18:57:51   \n",
       "...           ...          ...                             ...       ...   \n",
       "145825 2010-05-22     N0028716  ZINZI WHITE  (GLS)              21:43:55   \n",
       "145826 2010-04-27     N0028343  ZINZI WHITE  (GLS)              20:52:11   \n",
       "145827 2010-05-28     N0028835  ZINZI WHITE  (GLS)              01:03:37   \n",
       "145828 2010-04-30     N0028399  ZINZI WHITE  (GLS)              23:44:37   \n",
       "145829 2010-07-09     N0029472  ZINZI WHITE (BTL)               00:31:51   \n",
       "\n",
       "        Quantity   Rate     Tax  Discount   Total Category  \n",
       "258            1  120.0   37.50       0.0  157.50   LIQUOR  \n",
       "259            1  120.0   37.50       0.0  157.50   LIQUOR  \n",
       "260            2  100.0   62.50       0.0  262.50   LIQUOR  \n",
       "261            1  100.0   31.25       0.0  131.25   LIQUOR  \n",
       "262            1  120.0   37.50       0.0  157.50   LIQUOR  \n",
       "...          ...    ...     ...       ...     ...      ...  \n",
       "145825         2  150.0   78.00       0.0  378.00   LIQUOR  \n",
       "145826         2  150.0   78.00       0.0  378.00   LIQUOR  \n",
       "145827         3  150.0  117.00       0.0  567.00   LIQUOR  \n",
       "145828         1  150.0   39.00       0.0  189.00   LIQUOR  \n",
       "145829         1  700.0  182.00       0.0  882.00   LIQUOR  \n",
       "\n",
       "[6199 rows x 10 columns]"
      ]
     },
     "execution_count": 336,
     "metadata": {},
     "output_type": "execute_result"
    }
   ],
   "source": [
    "df[df[\"Category\"]==\"LIQUOR\"]"
   ]
  },
  {
   "cell_type": "markdown",
   "id": "eed92f3e-84f0-4813-8cfc-b77004da2524",
   "metadata": {},
   "source": [
    "Category distribution"
   ]
  },
  {
   "cell_type": "code",
   "execution_count": 338,
   "id": "2dbf12b3-01a6-4d12-8d42-42123fa25bd2",
   "metadata": {},
   "outputs": [
    {
     "name": "stderr",
     "output_type": "stream",
     "text": [
      "C:\\Users\\jayee\\AppData\\Local\\Temp\\ipykernel_17096\\2260078373.py:2: FutureWarning:\n",
      "\n",
      "\n",
      "\n",
      "Passing `palette` without assigning `hue` is deprecated and will be removed in v0.14.0. Assign the `x` variable to `hue` and set `legend=False` for the same effect.\n",
      "\n",
      "\n"
     ]
    },
    {
     "data": {
      "image/png": "[encoded data removed]",
      "text/plain": [
       "<Figure size 1200x600 with 1 Axes>"
      ]
     },
     "metadata": {},
     "output_type": "display_data"
    }
   ],
   "source": [
    "plt.figure(figsize=(12, 6))\n",
    "sns.barplot(data=df.groupby('Category')['Quantity'].sum().reset_index(), x='Category', y='Quantity', palette='viridis')\n",
    "plt.title('Category-wise Quantity Sold')\n",
    "plt.xlabel('Product Category')\n",
    "plt.ylabel('Total Quantity Sold')\n",
    "plt.xticks(rotation=45)  # Rotate the category labels for better readability\n",
    "plt.show()"
   ]
  },
  {
   "cell_type": "markdown",
   "id": "008e860e-5e09-4be2-b285-69e5613a241f",
   "metadata": {},
   "source": [
    "Rate distribution of each category"
   ]
  },
  {
   "cell_type": "code",
   "execution_count": 346,
   "id": "84edd7ea-350a-4f1f-a05b-8af1e3b425fd",
   "metadata": {},
   "outputs": [
    {
     "name": "stderr",
     "output_type": "stream",
     "text": [
      "C:\\Users\\jayee\\AppData\\Local\\Temp\\ipykernel_17096\\3167579544.py:5: FutureWarning:\n",
      "\n",
      "\n",
      "\n",
      "Passing `palette` without assigning `hue` is deprecated and will be removed in v0.14.0. Assign the `x` variable to `hue` and set `legend=False` for the same effect.\n",
      "\n",
      "\n"
     ]
    },
    {
     "data": {
      "text/plain": [
       "<Figure size 1200x600 with 0 Axes>"
      ]
     },
     "metadata": {},
     "output_type": "display_data"
    },
    {
     "data": {
      "image/png": "[encoded data removed]",
      "text/plain": [
       "<Figure size 1200x600 with 1 Axes>"
      ]
     },
     "metadata": {},
     "output_type": "display_data"
    }
   ],
   "source": [
    "plt.figure(figsize=(12, 6))\n",
    "order = df.groupby('Category')['Rate'].median().sort_values(ascending=False).index\n",
    "\n",
    "plt.figure(figsize=(12, 6))\n",
    "sns.boxplot(data=df, x='Category', y='Rate', palette='Set2', order=order)\n",
    "plt.title('Price Distribution by Category')\n",
    "plt.xlabel('Product Category')\n",
    "plt.ylabel('Price')\n",
    "plt.xticks(rotation=45)  # Rotate the category labels for readability\n",
    "plt.show()"
   ]
  },
  {
   "cell_type": "markdown",
   "id": "f4d68341-6b53-4c5e-a952-52614919f47c",
   "metadata": {},
   "source": [
    "Monthly Trend of Sales"
   ]
  },
  {
   "cell_type": "code",
   "execution_count": 183,
   "id": "4969a1dd-8114-4a32-8e63-c5f826941b02",
   "metadata": {},
   "outputs": [
    {
     "data": {
      "text/plain": [
       "<matplotlib.legend.Legend at 0x1c48a7a2310>"
      ]
     },
     "execution_count": 183,
     "metadata": {},
     "output_type": "execute_result"
    },
    {
     "data": {
      "image/png": "[encoded data removed]",
      "text/plain": [
       "<Figure size 1200x800 with 1 Axes>"
      ]
     },
     "metadata": {},
     "output_type": "display_data"
    }
   ],
   "source": [
    "plt.figure(figsize=(12,8))\n",
    "df.groupby(df.index.month)[\"Total\"].sum().sort_values(ascending=False).plot(kind=\"bar\")\n",
    "plt.legend(loc=\"best\")"
   ]
  },
  {
   "cell_type": "code",
   "execution_count": 184,
   "id": "fd8c4a75-40da-4b01-8794-306b063b12fe",
   "metadata": {},
   "outputs": [
    {
     "data": {
      "text/plain": [
       "<matplotlib.legend.Legend at 0x1c489cea310>"
      ]
     },
     "execution_count": 184,
     "metadata": {},
     "output_type": "execute_result"
    },
    {
     "data": {
      "image/png": "[encoded data removed]",
      "text/plain": [
       "<Figure size 1200x800 with 1 Axes>"
      ]
     },
     "metadata": {},
     "output_type": "display_data"
    }
   ],
   "source": [
    "plt.figure(figsize=(12,8))\n",
    "df.groupby(df.index.day)[\"Total\"].sum().sort_values(ascending=False).plot(kind=\"bar\")\n",
    "plt.legend(loc=\"best\")"
   ]
  },
  {
   "cell_type": "code",
   "execution_count": 185,
   "id": "f86dee07-fb39-4774-a4c4-8b5a910027f8",
   "metadata": {},
   "outputs": [],
   "source": [
    "df_copy=df.copy()"
   ]
  },
  {
   "cell_type": "code",
   "execution_count": 186,
   "id": "98cfa0c8-8dbc-4fc3-a3d6-23beacd5a72b",
   "metadata": {},
   "outputs": [],
   "source": [
    "df_copy['hour']= df.index.hour"
   ]
  },
  {
   "cell_type": "markdown",
   "id": "e0c2b852-644d-4574-844f-5522a6124916",
   "metadata": {},
   "source": [
    "Hourly Trend of Customer Dehavior over a day"
   ]
  },
  {
   "cell_type": "code",
   "execution_count": 188,
   "id": "1356c2e9-bd20-4db4-8a4d-2fb20d52883e",
   "metadata": {},
   "outputs": [
    {
     "data": {
      "image/png": "[encoded data removed]",
      "text/plain": [
       "<Figure size 1200x600 with 1 Axes>"
      ]
     },
     "metadata": {},
     "output_type": "display_data"
    }
   ],
   "source": [
    "hourly_behavior_avg = df_copy.groupby('hour')['Total'].mean().reset_index()\n",
    "\n",
    "plt.figure(figsize=(12, 6))\n",
    "sns.lineplot(data=hourly_behavior_avg, x='hour', y='Total', marker='o')\n",
    "plt.title('Average Consumer Behavior by Hour of Day')\n",
    "plt.xlabel('Hour of Day')\n",
    "plt.ylabel('Average Sales')\n",
    "plt.xticks(range(0, 24))  # Set x-axis to show each hour\n",
    "plt.show()"
   ]
  },
  {
   "cell_type": "markdown",
   "id": "496ec4cc-7c28-40cd-8139-5cf0cedd7702",
   "metadata": {},
   "source": [
    "Understand the consumer behavior from avg sales pattern over the hours in a day"
   ]
  },
  {
   "cell_type": "code",
   "execution_count": 190,
   "id": "ff138dc6-5d1e-4956-8f6d-cd94eff2fda4",
   "metadata": {},
   "outputs": [],
   "source": [
    "hourly_category_sales = df_copy.groupby(['hour', 'Category'])['Total'].mean().reset_index()"
   ]
  },
  {
   "cell_type": "code",
   "execution_count": 191,
   "id": "e4f32b83-2421-46ab-acaf-ac790d21c540",
   "metadata": {},
   "outputs": [
    {
     "data": {
      "application/vnd.plotly.v1+json": {
       "config": {
        "plotlyServerURL": "https://plot.ly"
       },
       "data": [
        {
         "hovertemplate": "Category=BEVERAGE<br>hour=%{x}<br>Total=%{y}<extra></extra>",
         "legendgroup": "BEVERAGE",
         "line": {
          "color": "#636efa",
          "dash": "solid"
         },
         "marker": {
          "symbol": "circle"
         },
         "mode": "lines+markers",
         "name": "BEVERAGE",
         "orientation": "v",
         "showlegend": true,
         "type": "scatter",
         "x": [
          0,
          1,
          2,
          3,
          4,
          5,
          9,
          10,
          11,
          12,
          13,
          14,
          15,
          16,
          17,
          18,
          19,
          20,
          21,
          22,
          23
         ],
         "xaxis": "x",
         "y": [
          135.0762475506205,
          134.34900820793433,
          131.7945,
          214.629375,
          161.76,
          115.08800000000001,
          137.50333333333333,
          118.91475982532751,
          113.17649641577061,
          120.97116049382716,
          115.80749221183801,
          126.48508497932934,
          124.50821952091526,
          125.88604091456078,
          125.94217153783119,
          127.44473284375792,
          124.17208072372999,
          124.95442542787285,
          125.47470381043868,
          132.56106147021546,
          129.70431539994308
         ],
         "yaxis": "y"
        },
        {
         "hovertemplate": "Category=FOOD<br>hour=%{x}<br>Total=%{y}<extra></extra>",
         "legendgroup": "FOOD",
         "line": {
          "color": "#EF553B",
          "dash": "solid"
         },
         "marker": {
          "symbol": "circle"
         },
         "mode": "lines+markers",
         "name": "FOOD",
         "orientation": "v",
         "showlegend": true,
         "type": "scatter",
         "x": [
          0,
          1,
          2,
          3,
          4,
          5,
          9,
          10,
          11,
          12,
          13,
          14,
          15,
          16,
          17,
          18,
          19,
          20,
          21,
          22,
          23
         ],
         "xaxis": "x",
         "y": [
          185.261227154047,
          187.14665626625066,
          227.87241379310345,
          181.12727272727273,
          188.72062499999998,
          147.26399999999998,
          136.13,
          162.45195530726258,
          155.96017809439002,
          165.5509175314036,
          166.98175074183976,
          171.49928752374922,
          171.11768760422456,
          174.10513856513856,
          173.2709981726816,
          170.70480538922158,
          170.9783994901675,
          171.73998938992042,
          175.77121544715447,
          178.5114211136891,
          184.15074661105317
         ],
         "yaxis": "y"
        },
        {
         "hovertemplate": "Category=LIQUOR<br>hour=%{x}<br>Total=%{y}<extra></extra>",
         "legendgroup": "LIQUOR",
         "line": {
          "color": "#00cc96",
          "dash": "solid"
         },
         "marker": {
          "symbol": "circle"
         },
         "mode": "lines+markers",
         "name": "LIQUOR",
         "orientation": "v",
         "showlegend": true,
         "type": "scatter",
         "x": [
          0,
          1,
          2,
          3,
          4,
          5,
          10,
          11,
          12,
          13,
          14,
          15,
          16,
          17,
          18,
          19,
          20,
          21,
          22,
          23
         ],
         "xaxis": "x",
         "y": [
          351.16955128205126,
          417.13,
          410.15625,
          322.65833333333336,
          350.00111111111113,
          229.69,
          161.43666666666667,
          229.2493333333333,
          291.578275862069,
          312.6467857142857,
          300.14550898203595,
          291.1873443983402,
          305.8739932885906,
          297.80843828715365,
          352.46498795180725,
          317.5171268656716,
          324.23614835948644,
          341.89984375,
          371.80845654993516,
          359.7373099415205
         ],
         "yaxis": "y"
        },
        {
         "hovertemplate": "Category=LIQUOR & TOBACCO<br>hour=%{x}<br>Total=%{y}<extra></extra>",
         "legendgroup": "LIQUOR & TOBACCO",
         "line": {
          "color": "#ab63fa",
          "dash": "solid"
         },
         "marker": {
          "symbol": "circle"
         },
         "mode": "lines+markers",
         "name": "LIQUOR & TOBACCO",
         "orientation": "v",
         "showlegend": true,
         "type": "scatter",
         "x": [
          0,
          1,
          13,
          14,
          15,
          16,
          17,
          18,
          19,
          20,
          21,
          22,
          23
         ],
         "xaxis": "x",
         "y": [
          660,
          656.25,
          984.38,
          660,
          658.75,
          660,
          822.19,
          800.9383333333334,
          723.1266666666667,
          768.75,
          660,
          878.8809523809524,
          658.75
         ],
         "yaxis": "y"
        },
        {
         "hovertemplate": "Category=MERCHANDISE<br>hour=%{x}<br>Total=%{y}<extra></extra>",
         "legendgroup": "MERCHANDISE",
         "line": {
          "color": "#FFA15A",
          "dash": "solid"
         },
         "marker": {
          "symbol": "circle"
         },
         "mode": "lines+markers",
         "name": "MERCHANDISE",
         "orientation": "v",
         "showlegend": true,
         "type": "scatter",
         "x": [
          0,
          1,
          10,
          11,
          12,
          13,
          14,
          15,
          16,
          17,
          18,
          19,
          20,
          21,
          22,
          23
         ],
         "xaxis": "x",
         "y": [
          272.0104651162791,
          223.57363636363635,
          219.18833333333336,
          327.05888888888893,
          236.8912,
          229.8736,
          216.55384615384614,
          272.3376923076923,
          165.9316,
          211.5674285714286,
          194.9815,
          256.9657777777778,
          225.3404347826087,
          288.16641025641024,
          278.86975,
          290.591186440678
         ],
         "yaxis": "y"
        },
        {
         "hovertemplate": "Category=MISC<br>hour=%{x}<br>Total=%{y}<extra></extra>",
         "legendgroup": "MISC",
         "line": {
          "color": "#19d3f3",
          "dash": "solid"
         },
         "marker": {
          "symbol": "circle"
         },
         "mode": "lines+markers",
         "name": "MISC",
         "orientation": "v",
         "showlegend": true,
         "type": "scatter",
         "x": [
          0,
          1,
          2,
          3,
          4,
          5,
          10,
          11,
          12,
          13,
          14,
          15,
          16,
          17,
          18,
          19,
          20,
          21,
          22,
          23
         ],
         "xaxis": "x",
         "y": [
          169.027,
          245.81272727272727,
          614.1638461538462,
          608.3611764705882,
          457.9135,
          525.9383333333334,
          88.68666666666667,
          78.2535294117647,
          120.1002564102564,
          82.495,
          95.09692307692308,
          91.12206349206349,
          118.45732142857142,
          131.4456043956044,
          147.1288775510204,
          174.2821212121212,
          112.47652892561983,
          274.8956896551724,
          163.96287234042555,
          180.98289719626166
         ],
         "yaxis": "y"
        },
        {
         "hovertemplate": "Category=TOBACCO<br>hour=%{x}<br>Total=%{y}<extra></extra>",
         "legendgroup": "TOBACCO",
         "line": {
          "color": "#FF6692",
          "dash": "solid"
         },
         "marker": {
          "symbol": "circle"
         },
         "mode": "lines+markers",
         "name": "TOBACCO",
         "orientation": "v",
         "showlegend": true,
         "type": "scatter",
         "x": [
          0,
          1,
          2,
          3,
          4,
          5,
          6,
          10,
          11,
          12,
          13,
          14,
          15,
          16,
          17,
          18,
          19,
          20,
          21,
          22,
          23
         ],
         "xaxis": "x",
         "y": [
          401.6733929185287,
          395.524917325665,
          295.3,
          431,
          214.2,
          594,
          105,
          381.3333333333333,
          370.76671949286845,
          374.3565789473684,
          373.9787987220447,
          381.993453724605,
          392.34872224549645,
          400.7961290322581,
          404.02690839694657,
          403.0796395193592,
          410.0360476663356,
          399.82968750000003,
          402.63052792654935,
          395.8019182389937,
          402.37563688760804
         ],
         "yaxis": "y"
        },
        {
         "hovertemplate": "Category=WINES<br>hour=%{x}<br>Total=%{y}<extra></extra>",
         "legendgroup": "WINES",
         "line": {
          "color": "#B6E880",
          "dash": "solid"
         },
         "marker": {
          "symbol": "circle"
         },
         "mode": "lines+markers",
         "name": "WINES",
         "orientation": "v",
         "showlegend": true,
         "type": "scatter",
         "x": [
          0,
          1,
          2,
          11,
          12,
          13,
          14,
          15,
          16,
          17,
          18,
          19,
          20,
          21,
          22,
          23
         ],
         "xaxis": "x",
         "y": [
          526.8749074074074,
          498.825,
          4536,
          220.5,
          267.75,
          288,
          274.5185714285714,
          453.32608695652175,
          581.921052631579,
          349.92594594594595,
          365.29783783783785,
          429.49038461538464,
          370.3059574468085,
          401.2057575757576,
          437.4838345864662,
          433.27385245901644
         ],
         "yaxis": "y"
        },
        {
         "hovertemplate": "Category=LIQUOR <br>hour=%{x}<br>Total=%{y}<extra></extra>",
         "legendgroup": "LIQUOR ",
         "line": {
          "color": "#FF97FF",
          "dash": "solid"
         },
         "marker": {
          "symbol": "circle"
         },
         "mode": "lines+markers",
         "name": "LIQUOR ",
         "orientation": "v",
         "showlegend": true,
         "type": "scatter",
         "x": [
          18
         ],
         "xaxis": "x",
         "y": [
          1050
         ],
         "yaxis": "y"
        }
       ],
       "layout": {
        "autosize": true,
        "legend": {
         "title": {
          "text": "Category"
         },
         "tracegroupgap": 0
        },
        "template": {
         "data": {
          "bar": [
           {
            "error_x": {
             "color": "#2a3f5f"
            },
            "error_y": {
             "color": "#2a3f5f"
            },
            "marker": {
             "line": {
              "color": "#E5ECF6",
              "width": 0.5
             },
             "pattern": {
              "fillmode": "overlay",
              "size": 10,
              "solidity": 0.2
             }
            },
            "type": "bar"
           }
          ],
          "barpolar": [
           {
            "marker": {
             "line": {
              "color": "#E5ECF6",
              "width": 0.5
             },
             "pattern": {
              "fillmode": "overlay",
              "size": 10,
              "solidity": 0.2
             }
            },
            "type": "barpolar"
           }
          ],
          "carpet": [
           {
            "aaxis": {
             "endlinecolor": "#2a3f5f",
             "gridcolor": "white",
             "linecolor": "white",
             "minorgridcolor": "white",
             "startlinecolor": "#2a3f5f"
            },
            "baxis": {
             "endlinecolor": "#2a3f5f",
             "gridcolor": "white",
             "linecolor": "white",
             "minorgridcolor": "white",
             "startlinecolor": "#2a3f5f"
            },
            "type": "carpet"
           }
          ],
          "choropleth": [
           {
            "colorbar": {
             "outlinewidth": 0,
             "ticks": ""
            },
            "type": "choropleth"
           }
          ],
          "contour": [
           {
            "colorbar": {
             "outlinewidth": 0,
             "ticks": ""
            },
            "colorscale": [
             [
              0,
              "#0d0887"
             ],
             [
              0.1111111111111111,
              "#46039f"
             ],
             [
              0.2222222222222222,
              "#7201a8"
             ],
             [
              0.3333333333333333,
              "#9c179e"
             ],
             [
              0.4444444444444444,
              "#bd3786"
             ],
             [
              0.5555555555555556,
              "#d8576b"
             ],
             [
              0.6666666666666666,
              "#ed7953"
             ],
             [
              0.7777777777777778,
              "#fb9f3a"
             ],
             [
              0.8888888888888888,
              "#fdca26"
             ],
             [
              1,
              "#f0f921"
             ]
            ],
            "type": "contour"
           }
          ],
          "contourcarpet": [
           {
            "colorbar": {
             "outlinewidth": 0,
             "ticks": ""
            },
            "type": "contourcarpet"
           }
          ],
          "heatmap": [
           {
            "colorbar": {
             "outlinewidth": 0,
             "ticks": ""
            },
            "colorscale": [
             [
              0,
              "#0d0887"
             ],
             [
              0.1111111111111111,
              "#46039f"
             ],
             [
              0.2222222222222222,
              "#7201a8"
             ],
             [
              0.3333333333333333,
              "#9c179e"
             ],
             [
              0.4444444444444444,
              "#bd3786"
             ],
             [
              0.5555555555555556,
              "#d8576b"
             ],
             [
              0.6666666666666666,
              "#ed7953"
             ],
             [
              0.7777777777777778,
              "#fb9f3a"
             ],
             [
              0.8888888888888888,
              "#fdca26"
             ],
             [
              1,
              "#f0f921"
             ]
            ],
            "type": "heatmap"
           }
          ],
          "heatmapgl": [
           {
            "colorbar": {
             "outlinewidth": 0,
             "ticks": ""
            },
            "colorscale": [
             [
              0,
              "#0d0887"
             ],
             [
              0.1111111111111111,
              "#46039f"
             ],
             [
              0.2222222222222222,
              "#7201a8"
             ],
             [
              0.3333333333333333,
              "#9c179e"
             ],
             [
              0.4444444444444444,
              "#bd3786"
             ],
             [
              0.5555555555555556,
              "#d8576b"
             ],
             [
              0.6666666666666666,
              "#ed7953"
             ],
             [
              0.7777777777777778,
              "#fb9f3a"
             ],
             [
              0.8888888888888888,
              "#fdca26"
             ],
             [
              1,
              "#f0f921"
             ]
            ],
            "type": "heatmapgl"
           }
          ],
          "histogram": [
           {
            "marker": {
             "pattern": {
              "fillmode": "overlay",
              "size": 10,
              "solidity": 0.2
             }
            },
            "type": "histogram"
           }
          ],
          "histogram2d": [
           {
            "colorbar": {
             "outlinewidth": 0,
             "ticks": ""
            },
            "colorscale": [
             [
              0,
              "#0d0887"
             ],
             [
              0.1111111111111111,
              "#46039f"
             ],
             [
              0.2222222222222222,
              "#7201a8"
             ],
             [
              0.3333333333333333,
              "#9c179e"
             ],
             [
              0.4444444444444444,
              "#bd3786"
             ],
             [
              0.5555555555555556,
              "#d8576b"
             ],
             [
              0.6666666666666666,
              "#ed7953"
             ],
             [
              0.7777777777777778,
              "#fb9f3a"
             ],
             [
              0.8888888888888888,
              "#fdca26"
             ],
             [
              1,
              "#f0f921"
             ]
            ],
            "type": "histogram2d"
           }
          ],
          "histogram2dcontour": [
           {
            "colorbar": {
             "outlinewidth": 0,
             "ticks": ""
            },
            "colorscale": [
             [
              0,
              "#0d0887"
             ],
             [
              0.1111111111111111,
              "#46039f"
             ],
             [
              0.2222222222222222,
              "#7201a8"
             ],
             [
              0.3333333333333333,
              "#9c179e"
             ],
             [
              0.4444444444444444,
              "#bd3786"
             ],
             [
              0.5555555555555556,
              "#d8576b"
             ],
             [
              0.6666666666666666,
              "#ed7953"
             ],
             [
              0.7777777777777778,
              "#fb9f3a"
             ],
             [
              0.8888888888888888,
              "#fdca26"
             ],
             [
              1,
              "#f0f921"
             ]
            ],
            "type": "histogram2dcontour"
           }
          ],
          "mesh3d": [
           {
            "colorbar": {
             "outlinewidth": 0,
             "ticks": ""
            },
            "type": "mesh3d"
           }
          ],
          "parcoords": [
           {
            "line": {
             "colorbar": {
              "outlinewidth": 0,
              "ticks": ""
             }
            },
            "type": "parcoords"
           }
          ],
          "pie": [
           {
            "automargin": true,
            "type": "pie"
           }
          ],
          "scatter": [
           {
            "fillpattern": {
             "fillmode": "overlay",
             "size": 10,
             "solidity": 0.2
            },
            "type": "scatter"
           }
          ],
          "scatter3d": [
           {
            "line": {
             "colorbar": {
              "outlinewidth": 0,
              "ticks": ""
             }
            },
            "marker": {
             "colorbar": {
              "outlinewidth": 0,
              "ticks": ""
             }
            },
            "type": "scatter3d"
           }
          ],
          "scattercarpet": [
           {
            "marker": {
             "colorbar": {
              "outlinewidth": 0,
              "ticks": ""
             }
            },
            "type": "scattercarpet"
           }
          ],
          "scattergeo": [
           {
            "marker": {
             "colorbar": {
              "outlinewidth": 0,
              "ticks": ""
             }
            },
            "type": "scattergeo"
           }
          ],
          "scattergl": [
           {
            "marker": {
             "colorbar": {
              "outlinewidth": 0,
              "ticks": ""
             }
            },
            "type": "scattergl"
           }
          ],
          "scattermapbox": [
           {
            "marker": {
             "colorbar": {
              "outlinewidth": 0,
              "ticks": ""
             }
            },
            "type": "scattermapbox"
           }
          ],
          "scatterpolar": [
           {
            "marker": {
             "colorbar": {
              "outlinewidth": 0,
              "ticks": ""
             }
            },
            "type": "scatterpolar"
           }
          ],
          "scatterpolargl": [
           {
            "marker": {
             "colorbar": {
              "outlinewidth": 0,
              "ticks": ""
             }
            },
            "type": "scatterpolargl"
           }
          ],
          "scatterternary": [
           {
            "marker": {
             "colorbar": {
              "outlinewidth": 0,
              "ticks": ""
             }
            },
            "type": "scatterternary"
           }
          ],
          "surface": [
           {
            "colorbar": {
             "outlinewidth": 0,
             "ticks": ""
            },
            "colorscale": [
             [
              0,
              "#0d0887"
             ],
             [
              0.1111111111111111,
              "#46039f"
             ],
             [
              0.2222222222222222,
              "#7201a8"
             ],
             [
              0.3333333333333333,
              "#9c179e"
             ],
             [
              0.4444444444444444,
              "#bd3786"
             ],
             [
              0.5555555555555556,
              "#d8576b"
             ],
             [
              0.6666666666666666,
              "#ed7953"
             ],
             [
              0.7777777777777778,
              "#fb9f3a"
             ],
             [
              0.8888888888888888,
              "#fdca26"
             ],
             [
              1,
              "#f0f921"
             ]
            ],
            "type": "surface"
           }
          ],
          "table": [
           {
            "cells": {
             "fill": {
              "color": "#EBF0F8"
             },
             "line": {
              "color": "white"
             }
            },
            "header": {
             "fill": {
              "color": "#C8D4E3"
             },
             "line": {
              "color": "white"
             }
            },
            "type": "table"
           }
          ]
         },
         "layout": {
          "annotationdefaults": {
           "arrowcolor": "#2a3f5f",
           "arrowhead": 0,
           "arrowwidth": 1
          },
          "autotypenumbers": "strict",
          "coloraxis": {
           "colorbar": {
            "outlinewidth": 0,
            "ticks": ""
           }
          },
          "colorscale": {
           "diverging": [
            [
             0,
             "#8e0152"
            ],
            [
             0.1,
             "#c51b7d"
            ],
            [
             0.2,
             "#de77ae"
            ],
            [
             0.3,
             "#f1b6da"
            ],
            [
             0.4,
             "#fde0ef"
            ],
            [
             0.5,
             "#f7f7f7"
            ],
            [
             0.6,
             "#e6f5d0"
            ],
            [
             0.7,
             "#b8e186"
            ],
            [
             0.8,
             "#7fbc41"
            ],
            [
             0.9,
             "#4d9221"
            ],
            [
             1,
             "#276419"
            ]
           ],
           "sequential": [
            [
             0,
             "#0d0887"
            ],
            [
             0.1111111111111111,
             "#46039f"
            ],
            [
             0.2222222222222222,
             "#7201a8"
            ],
            [
             0.3333333333333333,
             "#9c179e"
            ],
            [
             0.4444444444444444,
             "#bd3786"
            ],
            [
             0.5555555555555556,
             "#d8576b"
            ],
            [
             0.6666666666666666,
             "#ed7953"
            ],
            [
             0.7777777777777778,
             "#fb9f3a"
            ],
            [
             0.8888888888888888,
             "#fdca26"
            ],
            [
             1,
             "#f0f921"
            ]
           ],
           "sequentialminus": [
            [
             0,
             "#0d0887"
            ],
            [
             0.1111111111111111,
             "#46039f"
            ],
            [
             0.2222222222222222,
             "#7201a8"
            ],
            [
             0.3333333333333333,
             "#9c179e"
            ],
            [
             0.4444444444444444,
             "#bd3786"
            ],
            [
             0.5555555555555556,
             "#d8576b"
            ],
            [
             0.6666666666666666,
             "#ed7953"
            ],
            [
             0.7777777777777778,
             "#fb9f3a"
            ],
            [
             0.8888888888888888,
             "#fdca26"
            ],
            [
             1,
             "#f0f921"
            ]
           ]
          },
          "colorway": [
           "#636efa",
           "#EF553B",
           "#00cc96",
           "#ab63fa",
           "#FFA15A",
           "#19d3f3",
           "#FF6692",
           "#B6E880",
           "#FF97FF",
           "#FECB52"
          ],
          "font": {
           "color": "#2a3f5f"
          },
          "geo": {
           "bgcolor": "white",
           "lakecolor": "white",
           "landcolor": "#E5ECF6",
           "showlakes": true,
           "showland": true,
           "subunitcolor": "white"
          },
          "hoverlabel": {
           "align": "left"
          },
          "hovermode": "closest",
          "mapbox": {
           "style": "light"
          },
          "paper_bgcolor": "white",
          "plot_bgcolor": "#E5ECF6",
          "polar": {
           "angularaxis": {
            "gridcolor": "white",
            "linecolor": "white",
            "ticks": ""
           },
           "bgcolor": "#E5ECF6",
           "radialaxis": {
            "gridcolor": "white",
            "linecolor": "white",
            "ticks": ""
           }
          },
          "scene": {
           "xaxis": {
            "backgroundcolor": "#E5ECF6",
            "gridcolor": "white",
            "gridwidth": 2,
            "linecolor": "white",
            "showbackground": true,
            "ticks": "",
            "zerolinecolor": "white"
           },
           "yaxis": {
            "backgroundcolor": "#E5ECF6",
            "gridcolor": "white",
            "gridwidth": 2,
            "linecolor": "white",
            "showbackground": true,
            "ticks": "",
            "zerolinecolor": "white"
           },
           "zaxis": {
            "backgroundcolor": "#E5ECF6",
            "gridcolor": "white",
            "gridwidth": 2,
            "linecolor": "white",
            "showbackground": true,
            "ticks": "",
            "zerolinecolor": "white"
           }
          },
          "shapedefaults": {
           "line": {
            "color": "#2a3f5f"
           }
          },
          "ternary": {
           "aaxis": {
            "gridcolor": "white",
            "linecolor": "white",
            "ticks": ""
           },
           "baxis": {
            "gridcolor": "white",
            "linecolor": "white",
            "ticks": ""
           },
           "bgcolor": "#E5ECF6",
           "caxis": {
            "gridcolor": "white",
            "linecolor": "white",
            "ticks": ""
           }
          },
          "title": {
           "x": 0.05
          },
          "xaxis": {
           "automargin": true,
           "gridcolor": "white",
           "linecolor": "white",
           "ticks": "",
           "title": {
            "standoff": 15
           },
           "zerolinecolor": "white",
           "zerolinewidth": 2
          },
          "yaxis": {
           "automargin": true,
           "gridcolor": "white",
           "linecolor": "white",
           "ticks": "",
           "title": {
            "standoff": 15
           },
           "zerolinecolor": "white",
           "zerolinewidth": 2
          }
         }
        },
        "title": {
         "text": "Consumer Behavior by Hour of Day and Product Category"
        },
        "xaxis": {
         "anchor": "y",
         "autorange": true,
         "domain": [
          0,
          1
         ],
         "range": [
          -1.4084833606110203,
          24.40848336061102
         ],
         "tickmode": "array",
         "tickvals": [
          0,
          1,
          2,
          3,
          4,
          5,
          6,
          7,
          8,
          9,
          10,
          11,
          12,
          13,
          14,
          15,
          16,
          17,
          18,
          19,
          20,
          21,
          22,
          23
         ],
         "title": {
          "text": "Hour of Day"
         },
         "type": "linear"
        },
        "yaxis": {
         "anchor": "x",
         "autorange": true,
         "domain": [
          0,
          1
         ],
         "range": [
          -289.61875214163337,
          4903.872281553398
         ],
         "title": {
          "text": "Avg Sales"
         },
         "type": "linear"
        }
       }
      },
      "image/png": "[encoded data removed]",
      "text/html": [
       "<div>                            <div id=\"94a5a9a1-b8d2-4ab5-8b8e-fdbdd2db9cdb\" class=\"plotly-graph-div\" style=\"height:525px; width:100%;\"></div>            <script type=\"text/javascript\">                require([\"plotly\"], function(Plotly) {                    window.PLOTLYENV=window.PLOTLYENV || {};                                    if (document.getElementById(\"94a5a9a1-b8d2-4ab5-8b8e-fdbdd2db9cdb\")) {                    Plotly.newPlot(                        \"94a5a9a1-b8d2-4ab5-8b8e-fdbdd2db9cdb\",                        [{\"hovertemplate\":\"Category=BEVERAGE<br>hour=%{x}<br>Total=%{y}<extra></extra>\",\"legendgroup\":\"BEVERAGE\",\"line\":{\"color\":\"#636efa\",\"dash\":\"solid\"},\"marker\":{\"symbol\":\"circle\"},\"mode\":\"lines+markers\",\"name\":\"BEVERAGE\",\"orientation\":\"v\",\"showlegend\":true,\"x\":[0,1,2,3,4,5,9,10,11,12,13,14,15,16,17,18,19,20,21,22,23],\"xaxis\":\"x\",\"y\":[135.0762475506205,134.34900820793433,131.7945,214.629375,161.76,115.08800000000001,137.50333333333333,118.91475982532751,113.17649641577061,120.97116049382716,115.80749221183801,126.48508497932934,124.50821952091526,125.88604091456078,125.94217153783119,127.44473284375792,124.17208072372999,124.95442542787285,125.47470381043868,132.56106147021546,129.70431539994308],\"yaxis\":\"y\",\"type\":\"scatter\"},{\"hovertemplate\":\"Category=FOOD<br>hour=%{x}<br>Total=%{y}<extra></extra>\",\"legendgroup\":\"FOOD\",\"line\":{\"color\":\"#EF553B\",\"dash\":\"solid\"},\"marker\":{\"symbol\":\"circle\"},\"mode\":\"lines+markers\",\"name\":\"FOOD\",\"orientation\":\"v\",\"showlegend\":true,\"x\":[0,1,2,3,4,5,9,10,11,12,13,14,15,16,17,18,19,20,21,22,23],\"xaxis\":\"x\",\"y\":[185.261227154047,187.14665626625066,227.87241379310345,181.12727272727273,188.72062499999998,147.26399999999998,136.13,162.45195530726258,155.96017809439002,165.5509175314036,166.98175074183976,171.49928752374922,171.11768760422456,174.10513856513856,173.2709981726816,170.70480538922158,170.9783994901675,171.73998938992042,175.77121544715447,178.5114211136891,184.15074661105317],\"yaxis\":\"y\",\"type\":\"scatter\"},{\"hovertemplate\":\"Category=LIQUOR<br>hour=%{x}<br>Total=%{y}<extra></extra>\",\"legendgroup\":\"LIQUOR\",\"line\":{\"color\":\"#00cc96\",\"dash\":\"solid\"},\"marker\":{\"symbol\":\"circle\"},\"mode\":\"lines+markers\",\"name\":\"LIQUOR\",\"orientation\":\"v\",\"showlegend\":true,\"x\":[0,1,2,3,4,5,10,11,12,13,14,15,16,17,18,19,20,21,22,23],\"xaxis\":\"x\",\"y\":[351.16955128205126,417.13,410.15625,322.65833333333336,350.00111111111113,229.69,161.43666666666667,229.2493333333333,291.578275862069,312.6467857142857,300.14550898203595,291.1873443983402,305.8739932885906,297.80843828715365,352.46498795180725,317.5171268656716,324.23614835948644,341.89984375,371.80845654993516,359.7373099415205],\"yaxis\":\"y\",\"type\":\"scatter\"},{\"hovertemplate\":\"Category=LIQUOR & TOBACCO<br>hour=%{x}<br>Total=%{y}<extra></extra>\",\"legendgroup\":\"LIQUOR & TOBACCO\",\"line\":{\"color\":\"#ab63fa\",\"dash\":\"solid\"},\"marker\":{\"symbol\":\"circle\"},\"mode\":\"lines+markers\",\"name\":\"LIQUOR & TOBACCO\",\"orientation\":\"v\",\"showlegend\":true,\"x\":[0,1,13,14,15,16,17,18,19,20,21,22,23],\"xaxis\":\"x\",\"y\":[660.0,656.25,984.38,660.0,658.75,660.0,822.19,800.9383333333334,723.1266666666667,768.75,660.0,878.8809523809524,658.75],\"yaxis\":\"y\",\"type\":\"scatter\"},{\"hovertemplate\":\"Category=MERCHANDISE<br>hour=%{x}<br>Total=%{y}<extra></extra>\",\"legendgroup\":\"MERCHANDISE\",\"line\":{\"color\":\"#FFA15A\",\"dash\":\"solid\"},\"marker\":{\"symbol\":\"circle\"},\"mode\":\"lines+markers\",\"name\":\"MERCHANDISE\",\"orientation\":\"v\",\"showlegend\":true,\"x\":[0,1,10,11,12,13,14,15,16,17,18,19,20,21,22,23],\"xaxis\":\"x\",\"y\":[272.0104651162791,223.57363636363635,219.18833333333336,327.05888888888893,236.8912,229.8736,216.55384615384614,272.3376923076923,165.9316,211.5674285714286,194.9815,256.9657777777778,225.3404347826087,288.16641025641024,278.86975,290.591186440678],\"yaxis\":\"y\",\"type\":\"scatter\"},{\"hovertemplate\":\"Category=MISC<br>hour=%{x}<br>Total=%{y}<extra></extra>\",\"legendgroup\":\"MISC\",\"line\":{\"color\":\"#19d3f3\",\"dash\":\"solid\"},\"marker\":{\"symbol\":\"circle\"},\"mode\":\"lines+markers\",\"name\":\"MISC\",\"orientation\":\"v\",\"showlegend\":true,\"x\":[0,1,2,3,4,5,10,11,12,13,14,15,16,17,18,19,20,21,22,23],\"xaxis\":\"x\",\"y\":[169.027,245.81272727272727,614.1638461538462,608.3611764705882,457.9135,525.9383333333334,88.68666666666667,78.2535294117647,120.1002564102564,82.495,95.09692307692308,91.12206349206349,118.45732142857142,131.4456043956044,147.1288775510204,174.2821212121212,112.47652892561983,274.8956896551724,163.96287234042555,180.98289719626166],\"yaxis\":\"y\",\"type\":\"scatter\"},{\"hovertemplate\":\"Category=TOBACCO<br>hour=%{x}<br>Total=%{y}<extra></extra>\",\"legendgroup\":\"TOBACCO\",\"line\":{\"color\":\"#FF6692\",\"dash\":\"solid\"},\"marker\":{\"symbol\":\"circle\"},\"mode\":\"lines+markers\",\"name\":\"TOBACCO\",\"orientation\":\"v\",\"showlegend\":true,\"x\":[0,1,2,3,4,5,6,10,11,12,13,14,15,16,17,18,19,20,21,22,23],\"xaxis\":\"x\",\"y\":[401.6733929185287,395.524917325665,295.3,431.0,214.2,594.0,105.0,381.3333333333333,370.76671949286845,374.3565789473684,373.9787987220447,381.993453724605,392.34872224549645,400.7961290322581,404.02690839694657,403.0796395193592,410.0360476663356,399.82968750000003,402.63052792654935,395.8019182389937,402.37563688760804],\"yaxis\":\"y\",\"type\":\"scatter\"},{\"hovertemplate\":\"Category=WINES<br>hour=%{x}<br>Total=%{y}<extra></extra>\",\"legendgroup\":\"WINES\",\"line\":{\"color\":\"#B6E880\",\"dash\":\"solid\"},\"marker\":{\"symbol\":\"circle\"},\"mode\":\"lines+markers\",\"name\":\"WINES\",\"orientation\":\"v\",\"showlegend\":true,\"x\":[0,1,2,11,12,13,14,15,16,17,18,19,20,21,22,23],\"xaxis\":\"x\",\"y\":[526.8749074074074,498.825,4536.0,220.5,267.75,288.0,274.5185714285714,453.32608695652175,581.921052631579,349.92594594594595,365.29783783783785,429.49038461538464,370.3059574468085,401.2057575757576,437.4838345864662,433.27385245901644],\"yaxis\":\"y\",\"type\":\"scatter\"},{\"hovertemplate\":\"Category=LIQUOR <br>hour=%{x}<br>Total=%{y}<extra></extra>\",\"legendgroup\":\"LIQUOR \",\"line\":{\"color\":\"#FF97FF\",\"dash\":\"solid\"},\"marker\":{\"symbol\":\"circle\"},\"mode\":\"lines+markers\",\"name\":\"LIQUOR \",\"orientation\":\"v\",\"showlegend\":true,\"x\":[18],\"xaxis\":\"x\",\"y\":[1050.0],\"yaxis\":\"y\",\"type\":\"scatter\"}],                        {\"template\":{\"data\":{\"histogram2dcontour\":[{\"type\":\"histogram2dcontour\",\"colorbar\":{\"outlinewidth\":0,\"ticks\":\"\"},\"colorscale\":[[0.0,\"#0d0887\"],[0.1111111111111111,\"#46039f\"],[0.2222222222222222,\"#7201a8\"],[0.3333333333333333,\"#9c179e\"],[0.4444444444444444,\"#bd3786\"],[0.5555555555555556,\"#d8576b\"],[0.6666666666666666,\"#ed7953\"],[0.7777777777777778,\"#fb9f3a\"],[0.8888888888888888,\"#fdca26\"],[1.0,\"#f0f921\"]]}],\"choropleth\":[{\"type\":\"choropleth\",\"colorbar\":{\"outlinewidth\":0,\"ticks\":\"\"}}],\"histogram2d\":[{\"type\":\"histogram2d\",\"colorbar\":{\"outlinewidth\":0,\"ticks\":\"\"},\"colorscale\":[[0.0,\"#0d0887\"],[0.1111111111111111,\"#46039f\"],[0.2222222222222222,\"#7201a8\"],[0.3333333333333333,\"#9c179e\"],[0.4444444444444444,\"#bd3786\"],[0.5555555555555556,\"#d8576b\"],[0.6666666666666666,\"#ed7953\"],[0.7777777777777778,\"#fb9f3a\"],[0.8888888888888888,\"#fdca26\"],[1.0,\"#f0f921\"]]}],\"heatmap\":[{\"type\":\"heatmap\",\"colorbar\":{\"outlinewidth\":0,\"ticks\":\"\"},\"colorscale\":[[0.0,\"#0d0887\"],[0.1111111111111111,\"#46039f\"],[0.2222222222222222,\"#7201a8\"],[0.3333333333333333,\"#9c179e\"],[0.4444444444444444,\"#bd3786\"],[0.5555555555555556,\"#d8576b\"],[0.6666666666666666,\"#ed7953\"],[0.7777777777777778,\"#fb9f3a\"],[0.8888888888888888,\"#fdca26\"],[1.0,\"#f0f921\"]]}],\"heatmapgl\":[{\"type\":\"heatmapgl\",\"colorbar\":{\"outlinewidth\":0,\"ticks\":\"\"},\"colorscale\":[[0.0,\"#0d0887\"],[0.1111111111111111,\"#46039f\"],[0.2222222222222222,\"#7201a8\"],[0.3333333333333333,\"#9c179e\"],[0.4444444444444444,\"#bd3786\"],[0.5555555555555556,\"#d8576b\"],[0.6666666666666666,\"#ed7953\"],[0.7777777777777778,\"#fb9f3a\"],[0.8888888888888888,\"#fdca26\"],[1.0,\"#f0f921\"]]}],\"contourcarpet\":[{\"type\":\"contourcarpet\",\"colorbar\":{\"outlinewidth\":0,\"ticks\":\"\"}}],\"contour\":[{\"type\":\"contour\",\"colorbar\":{\"outlinewidth\":0,\"ticks\":\"\"},\"colorscale\":[[0.0,\"#0d0887\"],[0.1111111111111111,\"#46039f\"],[0.2222222222222222,\"#7201a8\"],[0.3333333333333333,\"#9c179e\"],[0.4444444444444444,\"#bd3786\"],[0.5555555555555556,\"#d8576b\"],[0.6666666666666666,\"#ed7953\"],[0.7777777777777778,\"#fb9f3a\"],[0.8888888888888888,\"#fdca26\"],[1.0,\"#f0f921\"]]}],\"surface\":[{\"type\":\"surface\",\"colorbar\":{\"outlinewidth\":0,\"ticks\":\"\"},\"colorscale\":[[0.0,\"#0d0887\"],[0.1111111111111111,\"#46039f\"],[0.2222222222222222,\"#7201a8\"],[0.3333333333333333,\"#9c179e\"],[0.4444444444444444,\"#bd3786\"],[0.5555555555555556,\"#d8576b\"],[0.6666666666666666,\"#ed7953\"],[0.7777777777777778,\"#fb9f3a\"],[0.8888888888888888,\"#fdca26\"],[1.0,\"#f0f921\"]]}],\"mesh3d\":[{\"type\":\"mesh3d\",\"colorbar\":{\"outlinewidth\":0,\"ticks\":\"\"}}],\"scatter\":[{\"fillpattern\":{\"fillmode\":\"overlay\",\"size\":10,\"solidity\":0.2},\"type\":\"scatter\"}],\"parcoords\":[{\"type\":\"parcoords\",\"line\":{\"colorbar\":{\"outlinewidth\":0,\"ticks\":\"\"}}}],\"scatterpolargl\":[{\"type\":\"scatterpolargl\",\"marker\":{\"colorbar\":{\"outlinewidth\":0,\"ticks\":\"\"}}}],\"bar\":[{\"error_x\":{\"color\":\"#2a3f5f\"},\"error_y\":{\"color\":\"#2a3f5f\"},\"marker\":{\"line\":{\"color\":\"#E5ECF6\",\"width\":0.5},\"pattern\":{\"fillmode\":\"overlay\",\"size\":10,\"solidity\":0.2}},\"type\":\"bar\"}],\"scattergeo\":[{\"type\":\"scattergeo\",\"marker\":{\"colorbar\":{\"outlinewidth\":0,\"ticks\":\"\"}}}],\"scatterpolar\":[{\"type\":\"scatterpolar\",\"marker\":{\"colorbar\":{\"outlinewidth\":0,\"ticks\":\"\"}}}],\"histogram\":[{\"marker\":{\"pattern\":{\"fillmode\":\"overlay\",\"size\":10,\"solidity\":0.2}},\"type\":\"histogram\"}],\"scattergl\":[{\"type\":\"scattergl\",\"marker\":{\"colorbar\":{\"outlinewidth\":0,\"ticks\":\"\"}}}],\"scatter3d\":[{\"type\":\"scatter3d\",\"line\":{\"colorbar\":{\"outlinewidth\":0,\"ticks\":\"\"}},\"marker\":{\"colorbar\":{\"outlinewidth\":0,\"ticks\":\"\"}}}],\"scattermapbox\":[{\"type\":\"scattermapbox\",\"marker\":{\"colorbar\":{\"outlinewidth\":0,\"ticks\":\"\"}}}],\"scatterternary\":[{\"type\":\"scatterternary\",\"marker\":{\"colorbar\":{\"outlinewidth\":0,\"ticks\":\"\"}}}],\"scattercarpet\":[{\"type\":\"scattercarpet\",\"marker\":{\"colorbar\":{\"outlinewidth\":0,\"ticks\":\"\"}}}],\"carpet\":[{\"aaxis\":{\"endlinecolor\":\"#2a3f5f\",\"gridcolor\":\"white\",\"linecolor\":\"white\",\"minorgridcolor\":\"white\",\"startlinecolor\":\"#2a3f5f\"},\"baxis\":{\"endlinecolor\":\"#2a3f5f\",\"gridcolor\":\"white\",\"linecolor\":\"white\",\"minorgridcolor\":\"white\",\"startlinecolor\":\"#2a3f5f\"},\"type\":\"carpet\"}],\"table\":[{\"cells\":{\"fill\":{\"color\":\"#EBF0F8\"},\"line\":{\"color\":\"white\"}},\"header\":{\"fill\":{\"color\":\"#C8D4E3\"},\"line\":{\"color\":\"white\"}},\"type\":\"table\"}],\"barpolar\":[{\"marker\":{\"line\":{\"color\":\"#E5ECF6\",\"width\":0.5},\"pattern\":{\"fillmode\":\"overlay\",\"size\":10,\"solidity\":0.2}},\"type\":\"barpolar\"}],\"pie\":[{\"automargin\":true,\"type\":\"pie\"}]},\"layout\":{\"autotypenumbers\":\"strict\",\"colorway\":[\"#636efa\",\"#EF553B\",\"#00cc96\",\"#ab63fa\",\"#FFA15A\",\"#19d3f3\",\"#FF6692\",\"#B6E880\",\"#FF97FF\",\"#FECB52\"],\"font\":{\"color\":\"#2a3f5f\"},\"hovermode\":\"closest\",\"hoverlabel\":{\"align\":\"left\"},\"paper_bgcolor\":\"white\",\"plot_bgcolor\":\"#E5ECF6\",\"polar\":{\"bgcolor\":\"#E5ECF6\",\"angularaxis\":{\"gridcolor\":\"white\",\"linecolor\":\"white\",\"ticks\":\"\"},\"radialaxis\":{\"gridcolor\":\"white\",\"linecolor\":\"white\",\"ticks\":\"\"}},\"ternary\":{\"bgcolor\":\"#E5ECF6\",\"aaxis\":{\"gridcolor\":\"white\",\"linecolor\":\"white\",\"ticks\":\"\"},\"baxis\":{\"gridcolor\":\"white\",\"linecolor\":\"white\",\"ticks\":\"\"},\"caxis\":{\"gridcolor\":\"white\",\"linecolor\":\"white\",\"ticks\":\"\"}},\"coloraxis\":{\"colorbar\":{\"outlinewidth\":0,\"ticks\":\"\"}},\"colorscale\":{\"sequential\":[[0.0,\"#0d0887\"],[0.1111111111111111,\"#46039f\"],[0.2222222222222222,\"#7201a8\"],[0.3333333333333333,\"#9c179e\"],[0.4444444444444444,\"#bd3786\"],[0.5555555555555556,\"#d8576b\"],[0.6666666666666666,\"#ed7953\"],[0.7777777777777778,\"#fb9f3a\"],[0.8888888888888888,\"#fdca26\"],[1.0,\"#f0f921\"]],\"sequentialminus\":[[0.0,\"#0d0887\"],[0.1111111111111111,\"#46039f\"],[0.2222222222222222,\"#7201a8\"],[0.3333333333333333,\"#9c179e\"],[0.4444444444444444,\"#bd3786\"],[0.5555555555555556,\"#d8576b\"],[0.6666666666666666,\"#ed7953\"],[0.7777777777777778,\"#fb9f3a\"],[0.8888888888888888,\"#fdca26\"],[1.0,\"#f0f921\"]],\"diverging\":[[0,\"#8e0152\"],[0.1,\"#c51b7d\"],[0.2,\"#de77ae\"],[0.3,\"#f1b6da\"],[0.4,\"#fde0ef\"],[0.5,\"#f7f7f7\"],[0.6,\"#e6f5d0\"],[0.7,\"#b8e186\"],[0.8,\"#7fbc41\"],[0.9,\"#4d9221\"],[1,\"#276419\"]]},\"xaxis\":{\"gridcolor\":\"white\",\"linecolor\":\"white\",\"ticks\":\"\",\"title\":{\"standoff\":15},\"zerolinecolor\":\"white\",\"automargin\":true,\"zerolinewidth\":2},\"yaxis\":{\"gridcolor\":\"white\",\"linecolor\":\"white\",\"ticks\":\"\",\"title\":{\"standoff\":15},\"zerolinecolor\":\"white\",\"automargin\":true,\"zerolinewidth\":2},\"scene\":{\"xaxis\":{\"backgroundcolor\":\"#E5ECF6\",\"gridcolor\":\"white\",\"linecolor\":\"white\",\"showbackground\":true,\"ticks\":\"\",\"zerolinecolor\":\"white\",\"gridwidth\":2},\"yaxis\":{\"backgroundcolor\":\"#E5ECF6\",\"gridcolor\":\"white\",\"linecolor\":\"white\",\"showbackground\":true,\"ticks\":\"\",\"zerolinecolor\":\"white\",\"gridwidth\":2},\"zaxis\":{\"backgroundcolor\":\"#E5ECF6\",\"gridcolor\":\"white\",\"linecolor\":\"white\",\"showbackground\":true,\"ticks\":\"\",\"zerolinecolor\":\"white\",\"gridwidth\":2}},\"shapedefaults\":{\"line\":{\"color\":\"#2a3f5f\"}},\"annotationdefaults\":{\"arrowcolor\":\"#2a3f5f\",\"arrowhead\":0,\"arrowwidth\":1},\"geo\":{\"bgcolor\":\"white\",\"landcolor\":\"#E5ECF6\",\"subunitcolor\":\"white\",\"showland\":true,\"showlakes\":true,\"lakecolor\":\"white\"},\"title\":{\"x\":0.05},\"mapbox\":{\"style\":\"light\"}}},\"xaxis\":{\"anchor\":\"y\",\"domain\":[0.0,1.0],\"title\":{\"text\":\"Hour of Day\"},\"tickmode\":\"array\",\"tickvals\":[0,1,2,3,4,5,6,7,8,9,10,11,12,13,14,15,16,17,18,19,20,21,22,23]},\"yaxis\":{\"anchor\":\"x\",\"domain\":[0.0,1.0],\"title\":{\"text\":\"Avg Sales\"}},\"legend\":{\"title\":{\"text\":\"Category\"},\"tracegroupgap\":0},\"title\":{\"text\":\"Consumer Behavior by Hour of Day and Product Category\"}},                        {\"responsive\": true}                    ).then(function(){\n",
       "                            \n",
       "var gd = document.getElementById('94a5a9a1-b8d2-4ab5-8b8e-fdbdd2db9cdb');\n",
       "var x = new MutationObserver(function (mutations, observer) {{\n",
       "        var display = window.getComputedStyle(gd).display;\n",
       "        if (!display || display === 'none') {{\n",
       "            console.log([gd, 'removed!']);\n",
       "            Plotly.purge(gd);\n",
       "            observer.disconnect();\n",
       "        }}\n",
       "}});\n",
       "\n",
       "// Listen for the removal of the full notebook cells\n",
       "var notebookContainer = gd.closest('#notebook-container');\n",
       "if (notebookContainer) {{\n",
       "    x.observe(notebookContainer, {childList: true});\n",
       "}}\n",
       "\n",
       "// Listen for the clearing of the current output cell\n",
       "var outputEl = gd.closest('.output');\n",
       "if (outputEl) {{\n",
       "    x.observe(outputEl, {childList: true});\n",
       "}}\n",
       "\n",
       "                        })                };                });            </script>        </div>"
      ]
     },
     "metadata": {},
     "output_type": "display_data"
    }
   ],
   "source": [
    "import plotly.express as px\n",
    "\n",
    "# Assuming 'hourly_category_sales' is your data frame\n",
    "fig = px.line(hourly_category_sales, x='hour', y='Total', color='Category', \n",
    "              markers=True, title='Consumer Behavior by Hour of Day and Product Category')\n",
    "\n",
    "# Update axis labels\n",
    "fig.update_layout(\n",
    "    xaxis_title=\"Hour of Day\",\n",
    "    yaxis_title=\"Avg Sales\",\n",
    "    xaxis=dict(tickmode='array', tickvals=list(range(0, 24)))  # Show each hour on x-axis\n",
    ")\n",
    "\n",
    "# Show the interactive plot\n",
    "fig.show()"
   ]
  },
  {
   "cell_type": "code",
   "execution_count": 192,
   "id": "4f7876f6-07dc-4044-9db4-f7ecbc0495eb",
   "metadata": {},
   "outputs": [],
   "source": [
    "hourly_category_sales_quantity_avg = df_copy.groupby(['hour', 'Category'])['Quantity'].mean().reset_index()"
   ]
  },
  {
   "cell_type": "code",
   "execution_count": 193,
   "id": "1823727b-9041-4b73-9eb8-d1a101eb2c2b",
   "metadata": {},
   "outputs": [
    {
     "data": {
      "application/vnd.plotly.v1+json": {
       "config": {
        "plotlyServerURL": "https://plot.ly"
       },
       "data": [
        {
         "hovertemplate": "Category=BEVERAGE<br>hour=%{x}<br>Quantity=%{y}<extra></extra>",
         "legendgroup": "BEVERAGE",
         "line": {
          "color": "#636efa",
          "dash": "solid",
          "width": 3
         },
         "marker": {
          "symbol": "circle"
         },
         "mode": "lines+markers",
         "name": "BEVERAGE",
         "orientation": "v",
         "showlegend": true,
         "type": "scatter",
         "x": [
          0,
          1,
          2,
          3,
          4,
          5,
          9,
          10,
          11,
          12,
          13,
          14,
          15,
          16,
          17,
          18,
          19,
          20,
          21,
          22,
          23
         ],
         "xaxis": "x",
         "y": [
          1.174069235793599,
          1.1915184678522572,
          1.15,
          1.625,
          1.4285714285714286,
          1,
          1,
          1.25764192139738,
          1.1818996415770608,
          1.1617283950617283,
          1.1438213914849429,
          1.172714745062012,
          1.1533786199499463,
          1.1600481347773766,
          1.1608850040972412,
          1.174221321853634,
          1.1482254697286012,
          1.154523227383863,
          1.1562600064040987,
          1.152408111533587,
          1.1651010532308568
         ],
         "yaxis": "y"
        },
        {
         "hovertemplate": "Category=FOOD<br>hour=%{x}<br>Quantity=%{y}<extra></extra>",
         "legendgroup": "FOOD",
         "line": {
          "color": "#EF553B",
          "dash": "solid",
          "width": 3
         },
         "marker": {
          "symbol": "circle"
         },
         "mode": "lines+markers",
         "name": "FOOD",
         "orientation": "v",
         "showlegend": true,
         "type": "scatter",
         "x": [
          0,
          1,
          2,
          3,
          4,
          5,
          9,
          10,
          11,
          12,
          13,
          14,
          15,
          16,
          17,
          18,
          19,
          20,
          21,
          22,
          23
         ],
         "xaxis": "x",
         "y": [
          1.1060052219321148,
          1.1133645345813832,
          1.2413793103448276,
          1.0909090909090908,
          1,
          1,
          1,
          1.1620111731843576,
          1.1032947462154943,
          1.1043145821955216,
          1.089020771513353,
          1.091513616212793,
          1.0858810450250138,
          1.0854700854700854,
          1.0865692096847877,
          1.0851154833190761,
          1.0821194464675892,
          1.078868258178603,
          1.0829268292682928,
          1.0887470997679813,
          1.0980187695516164
         ],
         "yaxis": "y"
        },
        {
         "hovertemplate": "Category=LIQUOR<br>hour=%{x}<br>Quantity=%{y}<extra></extra>",
         "legendgroup": "LIQUOR",
         "line": {
          "color": "#00cc96",
          "dash": "solid",
          "width": 3
         },
         "marker": {
          "symbol": "circle"
         },
         "mode": "lines+markers",
         "name": "LIQUOR",
         "orientation": "v",
         "showlegend": true,
         "type": "scatter",
         "x": [
          0,
          1,
          2,
          3,
          4,
          5,
          10,
          11,
          12,
          13,
          14,
          15,
          16,
          17,
          18,
          19,
          20,
          21,
          22,
          23
         ],
         "xaxis": "x",
         "y": [
          1.6522435897435896,
          1.8746928746928746,
          1.5,
          1.3333333333333333,
          1.4444444444444444,
          1,
          1,
          1.2666666666666666,
          1.6724137931034482,
          1.6714285714285715,
          1.5688622754491017,
          1.5311203319502074,
          1.563758389261745,
          1.5415617128463477,
          1.657831325301205,
          1.6455223880597014,
          1.6490727532097005,
          1.6576704545454546,
          1.727626459143969,
          1.6798245614035088
         ],
         "yaxis": "y"
        },
        {
         "hovertemplate": "Category=LIQUOR & TOBACCO<br>hour=%{x}<br>Quantity=%{y}<extra></extra>",
         "legendgroup": "LIQUOR & TOBACCO",
         "line": {
          "color": "#ab63fa",
          "dash": "solid",
          "width": 3
         },
         "marker": {
          "symbol": "circle"
         },
         "mode": "lines+markers",
         "name": "LIQUOR & TOBACCO",
         "orientation": "v",
         "showlegend": true,
         "type": "scatter",
         "x": [
          0,
          1,
          13,
          14,
          15,
          16,
          17,
          18,
          19,
          20,
          21,
          22,
          23
         ],
         "xaxis": "x",
         "y": [
          1,
          1,
          1,
          1,
          1,
          1,
          1,
          1.1666666666666667,
          1,
          1.1666666666666667,
          1,
          1.3333333333333333,
          1
         ],
         "yaxis": "y"
        },
        {
         "hovertemplate": "Category=MERCHANDISE<br>hour=%{x}<br>Quantity=%{y}<extra></extra>",
         "legendgroup": "MERCHANDISE",
         "line": {
          "color": "#FFA15A",
          "dash": "solid",
          "width": 3
         },
         "marker": {
          "symbol": "circle"
         },
         "mode": "lines+markers",
         "name": "MERCHANDISE",
         "orientation": "v",
         "showlegend": true,
         "type": "scatter",
         "x": [
          0,
          1,
          10,
          11,
          12,
          13,
          14,
          15,
          16,
          17,
          18,
          19,
          20,
          21,
          22,
          23
         ],
         "xaxis": "x",
         "y": [
          1.2093023255813953,
          1.2727272727272727,
          1,
          1.3333333333333333,
          1,
          1.04,
          1.0769230769230769,
          1,
          1.08,
          1.0571428571428572,
          1.2,
          1.1555555555555554,
          1.2391304347826086,
          1.0256410256410255,
          1.1,
          1.1864406779661016
         ],
         "yaxis": "y"
        },
        {
         "hovertemplate": "Category=MISC<br>hour=%{x}<br>Quantity=%{y}<extra></extra>",
         "legendgroup": "MISC",
         "line": {
          "color": "#19d3f3",
          "dash": "solid",
          "width": 3
         },
         "marker": {
          "symbol": "circle"
         },
         "mode": "lines+markers",
         "name": "MISC",
         "orientation": "v",
         "showlegend": true,
         "type": "scatter",
         "x": [
          0,
          1,
          2,
          3,
          4,
          5,
          10,
          11,
          12,
          13,
          14,
          15,
          16,
          17,
          18,
          19,
          20,
          21,
          22,
          23
         ],
         "xaxis": "x",
         "y": [
          1.125,
          1.1818181818181819,
          1.3076923076923077,
          1.588235294117647,
          1.05,
          1,
          1,
          1.1176470588235294,
          1.1025641025641026,
          1.131578947368421,
          1.1384615384615384,
          1.1111111111111112,
          1.125,
          1.010989010989011,
          1.0510204081632653,
          1.0606060606060606,
          1.1983471074380165,
          1.3189655172413792,
          1.1914893617021276,
          1.3738317757009346
         ],
         "yaxis": "y"
        },
        {
         "hovertemplate": "Category=TOBACCO<br>hour=%{x}<br>Quantity=%{y}<extra></extra>",
         "legendgroup": "TOBACCO",
         "line": {
          "color": "#FF6692",
          "dash": "solid",
          "width": 3
         },
         "marker": {
          "symbol": "circle"
         },
         "mode": "lines+markers",
         "name": "TOBACCO",
         "orientation": "v",
         "showlegend": true,
         "type": "scatter",
         "x": [
          0,
          1,
          2,
          3,
          4,
          5,
          6,
          10,
          11,
          12,
          13,
          14,
          15,
          16,
          17,
          18,
          19,
          20,
          21,
          22,
          23
         ],
         "xaxis": "x",
         "y": [
          1.0433138535579236,
          1.0452911574406902,
          1,
          1,
          1,
          1,
          1,
          1,
          1.0142630744849446,
          1.013157894736842,
          1.0159744408945688,
          1.0174943566591421,
          1.016338500209468,
          1.0203735144312394,
          1.0181297709923665,
          1.0240320427236316,
          1.0327706057596822,
          1.0237630208333333,
          1.0271614384085692,
          1.0172955974842768,
          1.0259365994236311
         ],
         "yaxis": "y"
        },
        {
         "hovertemplate": "Category=WINES<br>hour=%{x}<br>Quantity=%{y}<extra></extra>",
         "legendgroup": "WINES",
         "line": {
          "color": "#B6E880",
          "dash": "solid",
          "width": 3
         },
         "marker": {
          "symbol": "circle"
         },
         "mode": "lines+markers",
         "name": "WINES",
         "orientation": "v",
         "showlegend": true,
         "type": "scatter",
         "x": [
          0,
          1,
          2,
          11,
          12,
          13,
          14,
          15,
          16,
          17,
          18,
          19,
          20,
          21,
          22,
          23
         ],
         "xaxis": "x",
         "y": [
          1.3333333333333333,
          1.4107142857142858,
          3,
          1,
          1.1666666666666667,
          1.2857142857142858,
          1.2142857142857142,
          1.4782608695652173,
          1.263157894736842,
          1.2432432432432432,
          1.1891891891891893,
          1.4038461538461537,
          1.2659574468085106,
          1.2626262626262625,
          1.4285714285714286,
          1.3032786885245902
         ],
         "yaxis": "y"
        },
        {
         "hovertemplate": "Category=LIQUOR <br>hour=%{x}<br>Quantity=%{y}<extra></extra>",
         "legendgroup": "LIQUOR ",
         "line": {
          "color": "#FF97FF",
          "dash": "solid",
          "width": 3
         },
         "marker": {
          "symbol": "circle"
         },
         "mode": "lines+markers",
         "name": "LIQUOR ",
         "orientation": "v",
         "showlegend": true,
         "type": "scatter",
         "x": [
          18
         ],
         "xaxis": "x",
         "y": [
          1
         ],
         "yaxis": "y"
        }
       ],
       "layout": {
        "height": 800,
        "legend": {
         "font": {
          "size": 14
         },
         "title": {
          "text": "Category"
         },
         "tracegroupgap": 0
        },
        "showlegend": true,
        "template": {
         "data": {
          "bar": [
           {
            "error_x": {
             "color": "#2a3f5f"
            },
            "error_y": {
             "color": "#2a3f5f"
            },
            "marker": {
             "line": {
              "color": "#E5ECF6",
              "width": 0.5
             },
             "pattern": {
              "fillmode": "overlay",
              "size": 10,
              "solidity": 0.2
             }
            },
            "type": "bar"
           }
          ],
          "barpolar": [
           {
            "marker": {
             "line": {
              "color": "#E5ECF6",
              "width": 0.5
             },
             "pattern": {
              "fillmode": "overlay",
              "size": 10,
              "solidity": 0.2
             }
            },
            "type": "barpolar"
           }
          ],
          "carpet": [
           {
            "aaxis": {
             "endlinecolor": "#2a3f5f",
             "gridcolor": "white",
             "linecolor": "white",
             "minorgridcolor": "white",
             "startlinecolor": "#2a3f5f"
            },
            "baxis": {
             "endlinecolor": "#2a3f5f",
             "gridcolor": "white",
             "linecolor": "white",
             "minorgridcolor": "white",
             "startlinecolor": "#2a3f5f"
            },
            "type": "carpet"
           }
          ],
          "choropleth": [
           {
            "colorbar": {
             "outlinewidth": 0,
             "ticks": ""
            },
            "type": "choropleth"
           }
          ],
          "contour": [
           {
            "colorbar": {
             "outlinewidth": 0,
             "ticks": ""
            },
            "colorscale": [
             [
              0,
              "#0d0887"
             ],
             [
              0.1111111111111111,
              "#46039f"
             ],
             [
              0.2222222222222222,
              "#7201a8"
             ],
             [
              0.3333333333333333,
              "#9c179e"
             ],
             [
              0.4444444444444444,
              "#bd3786"
             ],
             [
              0.5555555555555556,
              "#d8576b"
             ],
             [
              0.6666666666666666,
              "#ed7953"
             ],
             [
              0.7777777777777778,
              "#fb9f3a"
             ],
             [
              0.8888888888888888,
              "#fdca26"
             ],
             [
              1,
              "#f0f921"
             ]
            ],
            "type": "contour"
           }
          ],
          "contourcarpet": [
           {
            "colorbar": {
             "outlinewidth": 0,
             "ticks": ""
            },
            "type": "contourcarpet"
           }
          ],
          "heatmap": [
           {
            "colorbar": {
             "outlinewidth": 0,
             "ticks": ""
            },
            "colorscale": [
             [
              0,
              "#0d0887"
             ],
             [
              0.1111111111111111,
              "#46039f"
             ],
             [
              0.2222222222222222,
              "#7201a8"
             ],
             [
              0.3333333333333333,
              "#9c179e"
             ],
             [
              0.4444444444444444,
              "#bd3786"
             ],
             [
              0.5555555555555556,
              "#d8576b"
             ],
             [
              0.6666666666666666,
              "#ed7953"
             ],
             [
              0.7777777777777778,
              "#fb9f3a"
             ],
             [
              0.8888888888888888,
              "#fdca26"
             ],
             [
              1,
              "#f0f921"
             ]
            ],
            "type": "heatmap"
           }
          ],
          "heatmapgl": [
           {
            "colorbar": {
             "outlinewidth": 0,
             "ticks": ""
            },
            "colorscale": [
             [
              0,
              "#0d0887"
             ],
             [
              0.1111111111111111,
              "#46039f"
             ],
             [
              0.2222222222222222,
              "#7201a8"
             ],
             [
              0.3333333333333333,
              "#9c179e"
             ],
             [
              0.4444444444444444,
              "#bd3786"
             ],
             [
              0.5555555555555556,
              "#d8576b"
             ],
             [
              0.6666666666666666,
              "#ed7953"
             ],
             [
              0.7777777777777778,
              "#fb9f3a"
             ],
             [
              0.8888888888888888,
              "#fdca26"
             ],
             [
              1,
              "#f0f921"
             ]
            ],
            "type": "heatmapgl"
           }
          ],
          "histogram": [
           {
            "marker": {
             "pattern": {
              "fillmode": "overlay",
              "size": 10,
              "solidity": 0.2
             }
            },
            "type": "histogram"
           }
          ],
          "histogram2d": [
           {
            "colorbar": {
             "outlinewidth": 0,
             "ticks": ""
            },
            "colorscale": [
             [
              0,
              "#0d0887"
             ],
             [
              0.1111111111111111,
              "#46039f"
             ],
             [
              0.2222222222222222,
              "#7201a8"
             ],
             [
              0.3333333333333333,
              "#9c179e"
             ],
             [
              0.4444444444444444,
              "#bd3786"
             ],
             [
              0.5555555555555556,
              "#d8576b"
             ],
             [
              0.6666666666666666,
              "#ed7953"
             ],
             [
              0.7777777777777778,
              "#fb9f3a"
             ],
             [
              0.8888888888888888,
              "#fdca26"
             ],
             [
              1,
              "#f0f921"
             ]
            ],
            "type": "histogram2d"
           }
          ],
          "histogram2dcontour": [
           {
            "colorbar": {
             "outlinewidth": 0,
             "ticks": ""
            },
            "colorscale": [
             [
              0,
              "#0d0887"
             ],
             [
              0.1111111111111111,
              "#46039f"
             ],
             [
              0.2222222222222222,
              "#7201a8"
             ],
             [
              0.3333333333333333,
              "#9c179e"
             ],
             [
              0.4444444444444444,
              "#bd3786"
             ],
             [
              0.5555555555555556,
              "#d8576b"
             ],
             [
              0.6666666666666666,
              "#ed7953"
             ],
             [
              0.7777777777777778,
              "#fb9f3a"
             ],
             [
              0.8888888888888888,
              "#fdca26"
             ],
             [
              1,
              "#f0f921"
             ]
            ],
            "type": "histogram2dcontour"
           }
          ],
          "mesh3d": [
           {
            "colorbar": {
             "outlinewidth": 0,
             "ticks": ""
            },
            "type": "mesh3d"
           }
          ],
          "parcoords": [
           {
            "line": {
             "colorbar": {
              "outlinewidth": 0,
              "ticks": ""
             }
            },
            "type": "parcoords"
           }
          ],
          "pie": [
           {
            "automargin": true,
            "type": "pie"
           }
          ],
          "scatter": [
           {
            "fillpattern": {
             "fillmode": "overlay",
             "size": 10,
             "solidity": 0.2
            },
            "type": "scatter"
           }
          ],
          "scatter3d": [
           {
            "line": {
             "colorbar": {
              "outlinewidth": 0,
              "ticks": ""
             }
            },
            "marker": {
             "colorbar": {
              "outlinewidth": 0,
              "ticks": ""
             }
            },
            "type": "scatter3d"
           }
          ],
          "scattercarpet": [
           {
            "marker": {
             "colorbar": {
              "outlinewidth": 0,
              "ticks": ""
             }
            },
            "type": "scattercarpet"
           }
          ],
          "scattergeo": [
           {
            "marker": {
             "colorbar": {
              "outlinewidth": 0,
              "ticks": ""
             }
            },
            "type": "scattergeo"
           }
          ],
          "scattergl": [
           {
            "marker": {
             "colorbar": {
              "outlinewidth": 0,
              "ticks": ""
             }
            },
            "type": "scattergl"
           }
          ],
          "scattermapbox": [
           {
            "marker": {
             "colorbar": {
              "outlinewidth": 0,
              "ticks": ""
             }
            },
            "type": "scattermapbox"
           }
          ],
          "scatterpolar": [
           {
            "marker": {
             "colorbar": {
              "outlinewidth": 0,
              "ticks": ""
             }
            },
            "type": "scatterpolar"
           }
          ],
          "scatterpolargl": [
           {
            "marker": {
             "colorbar": {
              "outlinewidth": 0,
              "ticks": ""
             }
            },
            "type": "scatterpolargl"
           }
          ],
          "scatterternary": [
           {
            "marker": {
             "colorbar": {
              "outlinewidth": 0,
              "ticks": ""
             }
            },
            "type": "scatterternary"
           }
          ],
          "surface": [
           {
            "colorbar": {
             "outlinewidth": 0,
             "ticks": ""
            },
            "colorscale": [
             [
              0,
              "#0d0887"
             ],
             [
              0.1111111111111111,
              "#46039f"
             ],
             [
              0.2222222222222222,
              "#7201a8"
             ],
             [
              0.3333333333333333,
              "#9c179e"
             ],
             [
              0.4444444444444444,
              "#bd3786"
             ],
             [
              0.5555555555555556,
              "#d8576b"
             ],
             [
              0.6666666666666666,
              "#ed7953"
             ],
             [
              0.7777777777777778,
              "#fb9f3a"
             ],
             [
              0.8888888888888888,
              "#fdca26"
             ],
             [
              1,
              "#f0f921"
             ]
            ],
            "type": "surface"
           }
          ],
          "table": [
           {
            "cells": {
             "fill": {
              "color": "#EBF0F8"
             },
             "line": {
              "color": "white"
             }
            },
            "header": {
             "fill": {
              "color": "#C8D4E3"
             },
             "line": {
              "color": "white"
             }
            },
            "type": "table"
           }
          ]
         },
         "layout": {
          "annotationdefaults": {
           "arrowcolor": "#2a3f5f",
           "arrowhead": 0,
           "arrowwidth": 1
          },
          "autotypenumbers": "strict",
          "coloraxis": {
           "colorbar": {
            "outlinewidth": 0,
            "ticks": ""
           }
          },
          "colorscale": {
           "diverging": [
            [
             0,
             "#8e0152"
            ],
            [
             0.1,
             "#c51b7d"
            ],
            [
             0.2,
             "#de77ae"
            ],
            [
             0.3,
             "#f1b6da"
            ],
            [
             0.4,
             "#fde0ef"
            ],
            [
             0.5,
             "#f7f7f7"
            ],
            [
             0.6,
             "#e6f5d0"
            ],
            [
             0.7,
             "#b8e186"
            ],
            [
             0.8,
             "#7fbc41"
            ],
            [
             0.9,
             "#4d9221"
            ],
            [
             1,
             "#276419"
            ]
           ],
           "sequential": [
            [
             0,
             "#0d0887"
            ],
            [
             0.1111111111111111,
             "#46039f"
            ],
            [
             0.2222222222222222,
             "#7201a8"
            ],
            [
             0.3333333333333333,
             "#9c179e"
            ],
            [
             0.4444444444444444,
             "#bd3786"
            ],
            [
             0.5555555555555556,
             "#d8576b"
            ],
            [
             0.6666666666666666,
             "#ed7953"
            ],
            [
             0.7777777777777778,
             "#fb9f3a"
            ],
            [
             0.8888888888888888,
             "#fdca26"
            ],
            [
             1,
             "#f0f921"
            ]
           ],
           "sequentialminus": [
            [
             0,
             "#0d0887"
            ],
            [
             0.1111111111111111,
             "#46039f"
            ],
            [
             0.2222222222222222,
             "#7201a8"
            ],
            [
             0.3333333333333333,
             "#9c179e"
            ],
            [
             0.4444444444444444,
             "#bd3786"
            ],
            [
             0.5555555555555556,
             "#d8576b"
            ],
            [
             0.6666666666666666,
             "#ed7953"
            ],
            [
             0.7777777777777778,
             "#fb9f3a"
            ],
            [
             0.8888888888888888,
             "#fdca26"
            ],
            [
             1,
             "#f0f921"
            ]
           ]
          },
          "colorway": [
           "#636efa",
           "#EF553B",
           "#00cc96",
           "#ab63fa",
           "#FFA15A",
           "#19d3f3",
           "#FF6692",
           "#B6E880",
           "#FF97FF",
           "#FECB52"
          ],
          "font": {
           "color": "#2a3f5f"
          },
          "geo": {
           "bgcolor": "white",
           "lakecolor": "white",
           "landcolor": "#E5ECF6",
           "showlakes": true,
           "showland": true,
           "subunitcolor": "white"
          },
          "hoverlabel": {
           "align": "left"
          },
          "hovermode": "closest",
          "mapbox": {
           "style": "light"
          },
          "paper_bgcolor": "white",
          "plot_bgcolor": "#E5ECF6",
          "polar": {
           "angularaxis": {
            "gridcolor": "white",
            "linecolor": "white",
            "ticks": ""
           },
           "bgcolor": "#E5ECF6",
           "radialaxis": {
            "gridcolor": "white",
            "linecolor": "white",
            "ticks": ""
           }
          },
          "scene": {
           "xaxis": {
            "backgroundcolor": "#E5ECF6",
            "gridcolor": "white",
            "gridwidth": 2,
            "linecolor": "white",
            "showbackground": true,
            "ticks": "",
            "zerolinecolor": "white"
           },
           "yaxis": {
            "backgroundcolor": "#E5ECF6",
            "gridcolor": "white",
            "gridwidth": 2,
            "linecolor": "white",
            "showbackground": true,
            "ticks": "",
            "zerolinecolor": "white"
           },
           "zaxis": {
            "backgroundcolor": "#E5ECF6",
            "gridcolor": "white",
            "gridwidth": 2,
            "linecolor": "white",
            "showbackground": true,
            "ticks": "",
            "zerolinecolor": "white"
           }
          },
          "shapedefaults": {
           "line": {
            "color": "#2a3f5f"
           }
          },
          "ternary": {
           "aaxis": {
            "gridcolor": "white",
            "linecolor": "white",
            "ticks": ""
           },
           "baxis": {
            "gridcolor": "white",
            "linecolor": "white",
            "ticks": ""
           },
           "bgcolor": "#E5ECF6",
           "caxis": {
            "gridcolor": "white",
            "linecolor": "white",
            "ticks": ""
           }
          },
          "title": {
           "x": 0.05
          },
          "xaxis": {
           "automargin": true,
           "gridcolor": "white",
           "linecolor": "white",
           "ticks": "",
           "title": {
            "standoff": 15
           },
           "zerolinecolor": "white",
           "zerolinewidth": 2
          },
          "yaxis": {
           "automargin": true,
           "gridcolor": "white",
           "linecolor": "white",
           "ticks": "",
           "title": {
            "standoff": 15
           },
           "zerolinecolor": "white",
           "zerolinewidth": 2
          }
         }
        },
        "title": {
         "text": "Consumer Behavior by Hour of Day and Product Category"
        },
        "width": 1000,
        "xaxis": {
         "anchor": "y",
         "autorange": true,
         "domain": [
          0,
          1
         ],
         "range": [
          -1.4308417185753077,
          24.43084171857531
         ],
         "tickmode": "array",
         "tickvals": [
          0,
          1,
          2,
          3,
          4,
          5,
          6,
          7,
          8,
          9,
          10,
          11,
          12,
          13,
          14,
          15,
          16,
          17,
          18,
          19,
          20,
          21,
          22,
          23
         ],
         "title": {
          "text": "Hour of Day"
         },
         "type": "linear"
        },
        "yaxis": {
         "anchor": "x",
         "autorange": true,
         "domain": [
          0,
          1
         ],
         "range": [
          0.8737511353315168,
          3.1262488646684834
         ],
         "title": {
          "text": "Avg Quantity Sold"
         },
         "type": "linear"
        }
       }
      },
      "image/png": "[encoded data removed]",
      "text/html": [
       "<div>                            <div id=\"2466d9fc-5645-4ae8-925c-fb272299c8a2\" class=\"plotly-graph-div\" style=\"height:800px; width:1000px;\"></div>            <script type=\"text/javascript\">                require([\"plotly\"], function(Plotly) {                    window.PLOTLYENV=window.PLOTLYENV || {};                                    if (document.getElementById(\"2466d9fc-5645-4ae8-925c-fb272299c8a2\")) {                    Plotly.newPlot(                        \"2466d9fc-5645-4ae8-925c-fb272299c8a2\",                        [{\"hovertemplate\":\"Category=BEVERAGE<br>hour=%{x}<br>Quantity=%{y}<extra></extra>\",\"legendgroup\":\"BEVERAGE\",\"line\":{\"color\":\"#636efa\",\"dash\":\"solid\",\"width\":3},\"marker\":{\"symbol\":\"circle\"},\"mode\":\"lines+markers\",\"name\":\"BEVERAGE\",\"orientation\":\"v\",\"showlegend\":true,\"x\":[0,1,2,3,4,5,9,10,11,12,13,14,15,16,17,18,19,20,21,22,23],\"xaxis\":\"x\",\"y\":[1.174069235793599,1.1915184678522572,1.15,1.625,1.4285714285714286,1.0,1.0,1.25764192139738,1.1818996415770608,1.1617283950617283,1.1438213914849429,1.172714745062012,1.1533786199499463,1.1600481347773766,1.1608850040972412,1.174221321853634,1.1482254697286012,1.154523227383863,1.1562600064040987,1.152408111533587,1.1651010532308568],\"yaxis\":\"y\",\"type\":\"scatter\"},{\"hovertemplate\":\"Category=FOOD<br>hour=%{x}<br>Quantity=%{y}<extra></extra>\",\"legendgroup\":\"FOOD\",\"line\":{\"color\":\"#EF553B\",\"dash\":\"solid\",\"width\":3},\"marker\":{\"symbol\":\"circle\"},\"mode\":\"lines+markers\",\"name\":\"FOOD\",\"orientation\":\"v\",\"showlegend\":true,\"x\":[0,1,2,3,4,5,9,10,11,12,13,14,15,16,17,18,19,20,21,22,23],\"xaxis\":\"x\",\"y\":[1.1060052219321148,1.1133645345813832,1.2413793103448276,1.0909090909090908,1.0,1.0,1.0,1.1620111731843576,1.1032947462154943,1.1043145821955216,1.089020771513353,1.091513616212793,1.0858810450250138,1.0854700854700854,1.0865692096847877,1.0851154833190761,1.0821194464675892,1.078868258178603,1.0829268292682928,1.0887470997679813,1.0980187695516164],\"yaxis\":\"y\",\"type\":\"scatter\"},{\"hovertemplate\":\"Category=LIQUOR<br>hour=%{x}<br>Quantity=%{y}<extra></extra>\",\"legendgroup\":\"LIQUOR\",\"line\":{\"color\":\"#00cc96\",\"dash\":\"solid\",\"width\":3},\"marker\":{\"symbol\":\"circle\"},\"mode\":\"lines+markers\",\"name\":\"LIQUOR\",\"orientation\":\"v\",\"showlegend\":true,\"x\":[0,1,2,3,4,5,10,11,12,13,14,15,16,17,18,19,20,21,22,23],\"xaxis\":\"x\",\"y\":[1.6522435897435896,1.8746928746928746,1.5,1.3333333333333333,1.4444444444444444,1.0,1.0,1.2666666666666666,1.6724137931034482,1.6714285714285715,1.5688622754491017,1.5311203319502074,1.563758389261745,1.5415617128463477,1.657831325301205,1.6455223880597014,1.6490727532097005,1.6576704545454546,1.727626459143969,1.6798245614035088],\"yaxis\":\"y\",\"type\":\"scatter\"},{\"hovertemplate\":\"Category=LIQUOR & TOBACCO<br>hour=%{x}<br>Quantity=%{y}<extra></extra>\",\"legendgroup\":\"LIQUOR & TOBACCO\",\"line\":{\"color\":\"#ab63fa\",\"dash\":\"solid\",\"width\":3},\"marker\":{\"symbol\":\"circle\"},\"mode\":\"lines+markers\",\"name\":\"LIQUOR & TOBACCO\",\"orientation\":\"v\",\"showlegend\":true,\"x\":[0,1,13,14,15,16,17,18,19,20,21,22,23],\"xaxis\":\"x\",\"y\":[1.0,1.0,1.0,1.0,1.0,1.0,1.0,1.1666666666666667,1.0,1.1666666666666667,1.0,1.3333333333333333,1.0],\"yaxis\":\"y\",\"type\":\"scatter\"},{\"hovertemplate\":\"Category=MERCHANDISE<br>hour=%{x}<br>Quantity=%{y}<extra></extra>\",\"legendgroup\":\"MERCHANDISE\",\"line\":{\"color\":\"#FFA15A\",\"dash\":\"solid\",\"width\":3},\"marker\":{\"symbol\":\"circle\"},\"mode\":\"lines+markers\",\"name\":\"MERCHANDISE\",\"orientation\":\"v\",\"showlegend\":true,\"x\":[0,1,10,11,12,13,14,15,16,17,18,19,20,21,22,23],\"xaxis\":\"x\",\"y\":[1.2093023255813953,1.2727272727272727,1.0,1.3333333333333333,1.0,1.04,1.0769230769230769,1.0,1.08,1.0571428571428572,1.2,1.1555555555555554,1.2391304347826086,1.0256410256410255,1.1,1.1864406779661016],\"yaxis\":\"y\",\"type\":\"scatter\"},{\"hovertemplate\":\"Category=MISC<br>hour=%{x}<br>Quantity=%{y}<extra></extra>\",\"legendgroup\":\"MISC\",\"line\":{\"color\":\"#19d3f3\",\"dash\":\"solid\",\"width\":3},\"marker\":{\"symbol\":\"circle\"},\"mode\":\"lines+markers\",\"name\":\"MISC\",\"orientation\":\"v\",\"showlegend\":true,\"x\":[0,1,2,3,4,5,10,11,12,13,14,15,16,17,18,19,20,21,22,23],\"xaxis\":\"x\",\"y\":[1.125,1.1818181818181819,1.3076923076923077,1.588235294117647,1.05,1.0,1.0,1.1176470588235294,1.1025641025641026,1.131578947368421,1.1384615384615384,1.1111111111111112,1.125,1.010989010989011,1.0510204081632653,1.0606060606060606,1.1983471074380165,1.3189655172413792,1.1914893617021276,1.3738317757009346],\"yaxis\":\"y\",\"type\":\"scatter\"},{\"hovertemplate\":\"Category=TOBACCO<br>hour=%{x}<br>Quantity=%{y}<extra></extra>\",\"legendgroup\":\"TOBACCO\",\"line\":{\"color\":\"#FF6692\",\"dash\":\"solid\",\"width\":3},\"marker\":{\"symbol\":\"circle\"},\"mode\":\"lines+markers\",\"name\":\"TOBACCO\",\"orientation\":\"v\",\"showlegend\":true,\"x\":[0,1,2,3,4,5,6,10,11,12,13,14,15,16,17,18,19,20,21,22,23],\"xaxis\":\"x\",\"y\":[1.0433138535579236,1.0452911574406902,1.0,1.0,1.0,1.0,1.0,1.0,1.0142630744849446,1.013157894736842,1.0159744408945688,1.0174943566591421,1.016338500209468,1.0203735144312394,1.0181297709923665,1.0240320427236316,1.0327706057596822,1.0237630208333333,1.0271614384085692,1.0172955974842768,1.0259365994236311],\"yaxis\":\"y\",\"type\":\"scatter\"},{\"hovertemplate\":\"Category=WINES<br>hour=%{x}<br>Quantity=%{y}<extra></extra>\",\"legendgroup\":\"WINES\",\"line\":{\"color\":\"#B6E880\",\"dash\":\"solid\",\"width\":3},\"marker\":{\"symbol\":\"circle\"},\"mode\":\"lines+markers\",\"name\":\"WINES\",\"orientation\":\"v\",\"showlegend\":true,\"x\":[0,1,2,11,12,13,14,15,16,17,18,19,20,21,22,23],\"xaxis\":\"x\",\"y\":[1.3333333333333333,1.4107142857142858,3.0,1.0,1.1666666666666667,1.2857142857142858,1.2142857142857142,1.4782608695652173,1.263157894736842,1.2432432432432432,1.1891891891891893,1.4038461538461537,1.2659574468085106,1.2626262626262625,1.4285714285714286,1.3032786885245902],\"yaxis\":\"y\",\"type\":\"scatter\"},{\"hovertemplate\":\"Category=LIQUOR <br>hour=%{x}<br>Quantity=%{y}<extra></extra>\",\"legendgroup\":\"LIQUOR \",\"line\":{\"color\":\"#FF97FF\",\"dash\":\"solid\",\"width\":3},\"marker\":{\"symbol\":\"circle\"},\"mode\":\"lines+markers\",\"name\":\"LIQUOR \",\"orientation\":\"v\",\"showlegend\":true,\"x\":[18],\"xaxis\":\"x\",\"y\":[1.0],\"yaxis\":\"y\",\"type\":\"scatter\"}],                        {\"template\":{\"data\":{\"histogram2dcontour\":[{\"type\":\"histogram2dcontour\",\"colorbar\":{\"outlinewidth\":0,\"ticks\":\"\"},\"colorscale\":[[0.0,\"#0d0887\"],[0.1111111111111111,\"#46039f\"],[0.2222222222222222,\"#7201a8\"],[0.3333333333333333,\"#9c179e\"],[0.4444444444444444,\"#bd3786\"],[0.5555555555555556,\"#d8576b\"],[0.6666666666666666,\"#ed7953\"],[0.7777777777777778,\"#fb9f3a\"],[0.8888888888888888,\"#fdca26\"],[1.0,\"#f0f921\"]]}],\"choropleth\":[{\"type\":\"choropleth\",\"colorbar\":{\"outlinewidth\":0,\"ticks\":\"\"}}],\"histogram2d\":[{\"type\":\"histogram2d\",\"colorbar\":{\"outlinewidth\":0,\"ticks\":\"\"},\"colorscale\":[[0.0,\"#0d0887\"],[0.1111111111111111,\"#46039f\"],[0.2222222222222222,\"#7201a8\"],[0.3333333333333333,\"#9c179e\"],[0.4444444444444444,\"#bd3786\"],[0.5555555555555556,\"#d8576b\"],[0.6666666666666666,\"#ed7953\"],[0.7777777777777778,\"#fb9f3a\"],[0.8888888888888888,\"#fdca26\"],[1.0,\"#f0f921\"]]}],\"heatmap\":[{\"type\":\"heatmap\",\"colorbar\":{\"outlinewidth\":0,\"ticks\":\"\"},\"colorscale\":[[0.0,\"#0d0887\"],[0.1111111111111111,\"#46039f\"],[0.2222222222222222,\"#7201a8\"],[0.3333333333333333,\"#9c179e\"],[0.4444444444444444,\"#bd3786\"],[0.5555555555555556,\"#d8576b\"],[0.6666666666666666,\"#ed7953\"],[0.7777777777777778,\"#fb9f3a\"],[0.8888888888888888,\"#fdca26\"],[1.0,\"#f0f921\"]]}],\"heatmapgl\":[{\"type\":\"heatmapgl\",\"colorbar\":{\"outlinewidth\":0,\"ticks\":\"\"},\"colorscale\":[[0.0,\"#0d0887\"],[0.1111111111111111,\"#46039f\"],[0.2222222222222222,\"#7201a8\"],[0.3333333333333333,\"#9c179e\"],[0.4444444444444444,\"#bd3786\"],[0.5555555555555556,\"#d8576b\"],[0.6666666666666666,\"#ed7953\"],[0.7777777777777778,\"#fb9f3a\"],[0.8888888888888888,\"#fdca26\"],[1.0,\"#f0f921\"]]}],\"contourcarpet\":[{\"type\":\"contourcarpet\",\"colorbar\":{\"outlinewidth\":0,\"ticks\":\"\"}}],\"contour\":[{\"type\":\"contour\",\"colorbar\":{\"outlinewidth\":0,\"ticks\":\"\"},\"colorscale\":[[0.0,\"#0d0887\"],[0.1111111111111111,\"#46039f\"],[0.2222222222222222,\"#7201a8\"],[0.3333333333333333,\"#9c179e\"],[0.4444444444444444,\"#bd3786\"],[0.5555555555555556,\"#d8576b\"],[0.6666666666666666,\"#ed7953\"],[0.7777777777777778,\"#fb9f3a\"],[0.8888888888888888,\"#fdca26\"],[1.0,\"#f0f921\"]]}],\"surface\":[{\"type\":\"surface\",\"colorbar\":{\"outlinewidth\":0,\"ticks\":\"\"},\"colorscale\":[[0.0,\"#0d0887\"],[0.1111111111111111,\"#46039f\"],[0.2222222222222222,\"#7201a8\"],[0.3333333333333333,\"#9c179e\"],[0.4444444444444444,\"#bd3786\"],[0.5555555555555556,\"#d8576b\"],[0.6666666666666666,\"#ed7953\"],[0.7777777777777778,\"#fb9f3a\"],[0.8888888888888888,\"#fdca26\"],[1.0,\"#f0f921\"]]}],\"mesh3d\":[{\"type\":\"mesh3d\",\"colorbar\":{\"outlinewidth\":0,\"ticks\":\"\"}}],\"scatter\":[{\"fillpattern\":{\"fillmode\":\"overlay\",\"size\":10,\"solidity\":0.2},\"type\":\"scatter\"}],\"parcoords\":[{\"type\":\"parcoords\",\"line\":{\"colorbar\":{\"outlinewidth\":0,\"ticks\":\"\"}}}],\"scatterpolargl\":[{\"type\":\"scatterpolargl\",\"marker\":{\"colorbar\":{\"outlinewidth\":0,\"ticks\":\"\"}}}],\"bar\":[{\"error_x\":{\"color\":\"#2a3f5f\"},\"error_y\":{\"color\":\"#2a3f5f\"},\"marker\":{\"line\":{\"color\":\"#E5ECF6\",\"width\":0.5},\"pattern\":{\"fillmode\":\"overlay\",\"size\":10,\"solidity\":0.2}},\"type\":\"bar\"}],\"scattergeo\":[{\"type\":\"scattergeo\",\"marker\":{\"colorbar\":{\"outlinewidth\":0,\"ticks\":\"\"}}}],\"scatterpolar\":[{\"type\":\"scatterpolar\",\"marker\":{\"colorbar\":{\"outlinewidth\":0,\"ticks\":\"\"}}}],\"histogram\":[{\"marker\":{\"pattern\":{\"fillmode\":\"overlay\",\"size\":10,\"solidity\":0.2}},\"type\":\"histogram\"}],\"scattergl\":[{\"type\":\"scattergl\",\"marker\":{\"colorbar\":{\"outlinewidth\":0,\"ticks\":\"\"}}}],\"scatter3d\":[{\"type\":\"scatter3d\",\"line\":{\"colorbar\":{\"outlinewidth\":0,\"ticks\":\"\"}},\"marker\":{\"colorbar\":{\"outlinewidth\":0,\"ticks\":\"\"}}}],\"scattermapbox\":[{\"type\":\"scattermapbox\",\"marker\":{\"colorbar\":{\"outlinewidth\":0,\"ticks\":\"\"}}}],\"scatterternary\":[{\"type\":\"scatterternary\",\"marker\":{\"colorbar\":{\"outlinewidth\":0,\"ticks\":\"\"}}}],\"scattercarpet\":[{\"type\":\"scattercarpet\",\"marker\":{\"colorbar\":{\"outlinewidth\":0,\"ticks\":\"\"}}}],\"carpet\":[{\"aaxis\":{\"endlinecolor\":\"#2a3f5f\",\"gridcolor\":\"white\",\"linecolor\":\"white\",\"minorgridcolor\":\"white\",\"startlinecolor\":\"#2a3f5f\"},\"baxis\":{\"endlinecolor\":\"#2a3f5f\",\"gridcolor\":\"white\",\"linecolor\":\"white\",\"minorgridcolor\":\"white\",\"startlinecolor\":\"#2a3f5f\"},\"type\":\"carpet\"}],\"table\":[{\"cells\":{\"fill\":{\"color\":\"#EBF0F8\"},\"line\":{\"color\":\"white\"}},\"header\":{\"fill\":{\"color\":\"#C8D4E3\"},\"line\":{\"color\":\"white\"}},\"type\":\"table\"}],\"barpolar\":[{\"marker\":{\"line\":{\"color\":\"#E5ECF6\",\"width\":0.5},\"pattern\":{\"fillmode\":\"overlay\",\"size\":10,\"solidity\":0.2}},\"type\":\"barpolar\"}],\"pie\":[{\"automargin\":true,\"type\":\"pie\"}]},\"layout\":{\"autotypenumbers\":\"strict\",\"colorway\":[\"#636efa\",\"#EF553B\",\"#00cc96\",\"#ab63fa\",\"#FFA15A\",\"#19d3f3\",\"#FF6692\",\"#B6E880\",\"#FF97FF\",\"#FECB52\"],\"font\":{\"color\":\"#2a3f5f\"},\"hovermode\":\"closest\",\"hoverlabel\":{\"align\":\"left\"},\"paper_bgcolor\":\"white\",\"plot_bgcolor\":\"#E5ECF6\",\"polar\":{\"bgcolor\":\"#E5ECF6\",\"angularaxis\":{\"gridcolor\":\"white\",\"linecolor\":\"white\",\"ticks\":\"\"},\"radialaxis\":{\"gridcolor\":\"white\",\"linecolor\":\"white\",\"ticks\":\"\"}},\"ternary\":{\"bgcolor\":\"#E5ECF6\",\"aaxis\":{\"gridcolor\":\"white\",\"linecolor\":\"white\",\"ticks\":\"\"},\"baxis\":{\"gridcolor\":\"white\",\"linecolor\":\"white\",\"ticks\":\"\"},\"caxis\":{\"gridcolor\":\"white\",\"linecolor\":\"white\",\"ticks\":\"\"}},\"coloraxis\":{\"colorbar\":{\"outlinewidth\":0,\"ticks\":\"\"}},\"colorscale\":{\"sequential\":[[0.0,\"#0d0887\"],[0.1111111111111111,\"#46039f\"],[0.2222222222222222,\"#7201a8\"],[0.3333333333333333,\"#9c179e\"],[0.4444444444444444,\"#bd3786\"],[0.5555555555555556,\"#d8576b\"],[0.6666666666666666,\"#ed7953\"],[0.7777777777777778,\"#fb9f3a\"],[0.8888888888888888,\"#fdca26\"],[1.0,\"#f0f921\"]],\"sequentialminus\":[[0.0,\"#0d0887\"],[0.1111111111111111,\"#46039f\"],[0.2222222222222222,\"#7201a8\"],[0.3333333333333333,\"#9c179e\"],[0.4444444444444444,\"#bd3786\"],[0.5555555555555556,\"#d8576b\"],[0.6666666666666666,\"#ed7953\"],[0.7777777777777778,\"#fb9f3a\"],[0.8888888888888888,\"#fdca26\"],[1.0,\"#f0f921\"]],\"diverging\":[[0,\"#8e0152\"],[0.1,\"#c51b7d\"],[0.2,\"#de77ae\"],[0.3,\"#f1b6da\"],[0.4,\"#fde0ef\"],[0.5,\"#f7f7f7\"],[0.6,\"#e6f5d0\"],[0.7,\"#b8e186\"],[0.8,\"#7fbc41\"],[0.9,\"#4d9221\"],[1,\"#276419\"]]},\"xaxis\":{\"gridcolor\":\"white\",\"linecolor\":\"white\",\"ticks\":\"\",\"title\":{\"standoff\":15},\"zerolinecolor\":\"white\",\"automargin\":true,\"zerolinewidth\":2},\"yaxis\":{\"gridcolor\":\"white\",\"linecolor\":\"white\",\"ticks\":\"\",\"title\":{\"standoff\":15},\"zerolinecolor\":\"white\",\"automargin\":true,\"zerolinewidth\":2},\"scene\":{\"xaxis\":{\"backgroundcolor\":\"#E5ECF6\",\"gridcolor\":\"white\",\"linecolor\":\"white\",\"showbackground\":true,\"ticks\":\"\",\"zerolinecolor\":\"white\",\"gridwidth\":2},\"yaxis\":{\"backgroundcolor\":\"#E5ECF6\",\"gridcolor\":\"white\",\"linecolor\":\"white\",\"showbackground\":true,\"ticks\":\"\",\"zerolinecolor\":\"white\",\"gridwidth\":2},\"zaxis\":{\"backgroundcolor\":\"#E5ECF6\",\"gridcolor\":\"white\",\"linecolor\":\"white\",\"showbackground\":true,\"ticks\":\"\",\"zerolinecolor\":\"white\",\"gridwidth\":2}},\"shapedefaults\":{\"line\":{\"color\":\"#2a3f5f\"}},\"annotationdefaults\":{\"arrowcolor\":\"#2a3f5f\",\"arrowhead\":0,\"arrowwidth\":1},\"geo\":{\"bgcolor\":\"white\",\"landcolor\":\"#E5ECF6\",\"subunitcolor\":\"white\",\"showland\":true,\"showlakes\":true,\"lakecolor\":\"white\"},\"title\":{\"x\":0.05},\"mapbox\":{\"style\":\"light\"}}},\"xaxis\":{\"anchor\":\"y\",\"domain\":[0.0,1.0],\"title\":{\"text\":\"Hour of Day\"},\"tickmode\":\"array\",\"tickvals\":[0,1,2,3,4,5,6,7,8,9,10,11,12,13,14,15,16,17,18,19,20,21,22,23]},\"yaxis\":{\"anchor\":\"x\",\"domain\":[0.0,1.0],\"title\":{\"text\":\"Avg Quantity Sold\"}},\"legend\":{\"title\":{\"text\":\"Category\"},\"tracegroupgap\":0,\"font\":{\"size\":14}},\"title\":{\"text\":\"Consumer Behavior by Hour of Day and Product Category\"},\"showlegend\":true,\"width\":1000,\"height\":800},                        {\"responsive\": true}                    ).then(function(){\n",
       "                            \n",
       "var gd = document.getElementById('2466d9fc-5645-4ae8-925c-fb272299c8a2');\n",
       "var x = new MutationObserver(function (mutations, observer) {{\n",
       "        var display = window.getComputedStyle(gd).display;\n",
       "        if (!display || display === 'none') {{\n",
       "            console.log([gd, 'removed!']);\n",
       "            Plotly.purge(gd);\n",
       "            observer.disconnect();\n",
       "        }}\n",
       "}});\n",
       "\n",
       "// Listen for the removal of the full notebook cells\n",
       "var notebookContainer = gd.closest('#notebook-container');\n",
       "if (notebookContainer) {{\n",
       "    x.observe(notebookContainer, {childList: true});\n",
       "}}\n",
       "\n",
       "// Listen for the clearing of the current output cell\n",
       "var outputEl = gd.closest('.output');\n",
       "if (outputEl) {{\n",
       "    x.observe(outputEl, {childList: true});\n",
       "}}\n",
       "\n",
       "                        })                };                });            </script>        </div>"
      ]
     },
     "metadata": {},
     "output_type": "display_data"
    }
   ],
   "source": [
    "import plotly.express as px\n",
    "\n",
    "# Assuming 'hourly_category_sales' is your data frame\n",
    "fig = px.line(hourly_category_sales_quantity_avg, x='hour', y='Quantity', color='Category', \n",
    "              markers=True, title='Consumer Behavior by Hour of Day and Product Category')\n",
    "\n",
    "# Update axis labels\n",
    "fig.update_layout(\n",
    "    xaxis_title=\"Hour of Day\",\n",
    "    yaxis_title=\"Avg Quantity Sold\",\n",
    "    xaxis=dict(tickmode='array', tickvals=list(range(0, 24)))  # Show each hour on x-axis\n",
    ")\n",
    "\n",
    "# Add event listener for clickable legend (toggle lines)\n",
    "fig.update_traces(\n",
    "    line=dict(width=3),  # Make the lines thicker for better visibility\n",
    "    selector=dict(mode='lines+markers')  # Only add interactivity to lines and markers\n",
    ")\n",
    "\n",
    "# Enable the legend click behavior\n",
    "fig.update_layout(\n",
    "    showlegend=True,\n",
    "    legend_title='Category',\n",
    "    width=1000,  # Width of the plot\n",
    "    height=800,  # Height of the plot\n",
    "    legend=dict(font=dict(size=14)) \n",
    ")\n",
    "\n",
    "# Show the interactive plot\n",
    "fig.show()"
   ]
  },
  {
   "cell_type": "markdown",
   "id": "7a8a5363-b62a-4179-8bcf-16ef312fd1d7",
   "metadata": {},
   "source": [
    "Understand the demand of each category item over the hours in a day"
   ]
  },
  {
   "cell_type": "code",
   "execution_count": 195,
   "id": "cbfc4595-d30d-4b71-8935-5fef5d3c5401",
   "metadata": {},
   "outputs": [],
   "source": [
    "hourly_category_sales_quantity = df_copy.groupby(['hour', 'Category'])['Quantity'].sum().reset_index()"
   ]
  },
  {
   "cell_type": "code",
   "execution_count": 196,
   "id": "d5df1d40-8eeb-4af9-89c3-cfc3dc0bbb33",
   "metadata": {},
   "outputs": [
    {
     "data": {
      "image/png": "[encoded data removed]",
      "text/plain": [
       "<Figure size 1200x600 with 1 Axes>"
      ]
     },
     "metadata": {},
     "output_type": "display_data"
    }
   ],
   "source": [
    "plt.figure(figsize=(12, 6))\n",
    "sns.lineplot(data=hourly_category_sales_quantity, x='hour', y='Quantity', hue='Category', marker='o')\n",
    "plt.title('Consumer Behavior by Hour of Day and Product Category')\n",
    "plt.xlabel('Hour of Day')\n",
    "plt.ylabel('Total Quantity Sold')\n",
    "plt.xticks(range(0, 24))  # Show each hour on x-axis\n",
    "plt.legend(title='Category')\n",
    "plt.show()"
   ]
  },
  {
   "cell_type": "code",
   "execution_count": 197,
   "id": "966afb4f-a96b-4e5b-ac40-defa72c1245d",
   "metadata": {},
   "outputs": [
    {
     "data": {
      "image/png": "[encoded data removed]",
      "text/plain": [
       "<Figure size 1200x600 with 1 Axes>"
      ]
     },
     "metadata": {},
     "output_type": "display_data"
    }
   ],
   "source": [
    "hourly_pivot = hourly_category_sales.pivot(index='hour', columns='Category', values='Total').fillna(0)\n",
    "\n",
    "# Plot the stacked bar chart\n",
    "hourly_pivot.plot(kind='bar', stacked=True, figsize=(12, 6), colormap='viridis')\n",
    "plt.title('Avg Sales by Hour and Category')\n",
    "plt.xlabel('Hour of Day')\n",
    "plt.ylabel('Avg Sales')\n",
    "plt.xticks(rotation=45)\n",
    "plt.legend(title='Category')\n",
    "plt.show()"
   ]
  },
  {
   "cell_type": "markdown",
   "id": "3ed73db1-3a95-4554-8bae-7e49e98cc169",
   "metadata": {},
   "source": [
    "Day wise Sales Pattern over a week"
   ]
  },
  {
   "cell_type": "code",
   "execution_count": 237,
   "id": "8bd708c8-dd6a-47d3-86b3-588bfd53f7e3",
   "metadata": {},
   "outputs": [],
   "source": [
    "df_copy[\"Day\"]=df_copy.index.day_name()"
   ]
  },
  {
   "cell_type": "code",
   "execution_count": 267,
   "id": "3ef46ccc-07d7-4a86-af5e-4467aa3876a6",
   "metadata": {},
   "outputs": [],
   "source": [
    "avg_sales = df_copy.groupby(['Day','Category'])['Total'].mean().reset_index()\n"
   ]
  },
  {
   "cell_type": "code",
   "execution_count": 269,
   "id": "636326fb-4b70-4bba-ace8-1f4107d08335",
   "metadata": {},
   "outputs": [
    {
     "data": {
      "image/png": "[encoded data removed]",
      "text/plain": [
       "<Figure size 1200x600 with 1 Axes>"
      ]
     },
     "metadata": {},
     "output_type": "display_data"
    }
   ],
   "source": [
    "# Plot the average sales per day\n",
    "plt.figure(figsize=(12, 6))\n",
    "sns.lineplot(data=avg_sales, x='Day', y='Total',hue=\"Category\", marker='o')\n",
    "\n",
    "# Customize the plot\n",
    "plt.title('Average Sales per Day of the Week')\n",
    "plt.xlabel('Day of the Week')\n",
    "plt.ylabel('Average Sales')\n",
    "plt.xticks(rotation=45)\n",
    "plt.show()"
   ]
  },
  {
   "cell_type": "code",
   "execution_count": 285,
   "id": "649c08af-5def-4662-a11b-ec2ecd0519cd",
   "metadata": {},
   "outputs": [
    {
     "data": {
      "text/html": [
       "<div>\n",
       "<style scoped>\n",
       "    .dataframe tbody tr th:only-of-type {\n",
       "        vertical-align: middle;\n",
       "    }\n",
       "\n",
       "    .dataframe tbody tr th {\n",
       "        vertical-align: top;\n",
       "    }\n",
       "\n",
       "    .dataframe thead th {\n",
       "        text-align: right;\n",
       "    }\n",
       "</style>\n",
       "<table border=\"1\" class=\"dataframe\">\n",
       "  <thead>\n",
       "    <tr style=\"text-align: right;\">\n",
       "      <th></th>\n",
       "      <th>Bill Number</th>\n",
       "      <th>Item Desc</th>\n",
       "      <th>Quantity</th>\n",
       "      <th>Rate</th>\n",
       "      <th>Tax</th>\n",
       "      <th>Discount</th>\n",
       "      <th>Total</th>\n",
       "      <th>Category</th>\n",
       "      <th>hour</th>\n",
       "      <th>Day</th>\n",
       "      <th>Week</th>\n",
       "      <th>Month</th>\n",
       "    </tr>\n",
       "    <tr>\n",
       "      <th>datetime</th>\n",
       "      <th></th>\n",
       "      <th></th>\n",
       "      <th></th>\n",
       "      <th></th>\n",
       "      <th></th>\n",
       "      <th></th>\n",
       "      <th></th>\n",
       "      <th></th>\n",
       "      <th></th>\n",
       "      <th></th>\n",
       "      <th></th>\n",
       "      <th></th>\n",
       "    </tr>\n",
       "  </thead>\n",
       "  <tbody>\n",
       "    <tr>\n",
       "      <th>2010-04-01 13:15:11</th>\n",
       "      <td>G0470115</td>\n",
       "      <td>QUA  MINERAL WATER(1000ML)</td>\n",
       "      <td>1</td>\n",
       "      <td>50.0</td>\n",
       "      <td>11.88</td>\n",
       "      <td>0.0</td>\n",
       "      <td>61.88</td>\n",
       "      <td>BEVERAGE</td>\n",
       "      <td>13</td>\n",
       "      <td>Thursday</td>\n",
       "      <td>3</td>\n",
       "      <td>April</td>\n",
       "    </tr>\n",
       "    <tr>\n",
       "      <th>2010-04-01 13:15:11</th>\n",
       "      <td>G0470115</td>\n",
       "      <td>MONSOON MALABAR (AULAIT)</td>\n",
       "      <td>1</td>\n",
       "      <td>100.0</td>\n",
       "      <td>23.75</td>\n",
       "      <td>0.0</td>\n",
       "      <td>123.75</td>\n",
       "      <td>BEVERAGE</td>\n",
       "      <td>13</td>\n",
       "      <td>Thursday</td>\n",
       "      <td>3</td>\n",
       "      <td>April</td>\n",
       "    </tr>\n",
       "    <tr>\n",
       "      <th>2010-04-01 13:17:35</th>\n",
       "      <td>G0470116</td>\n",
       "      <td>MASALA CHAI CUTTING</td>\n",
       "      <td>1</td>\n",
       "      <td>40.0</td>\n",
       "      <td>9.50</td>\n",
       "      <td>0.0</td>\n",
       "      <td>49.50</td>\n",
       "      <td>BEVERAGE</td>\n",
       "      <td>13</td>\n",
       "      <td>Thursday</td>\n",
       "      <td>3</td>\n",
       "      <td>April</td>\n",
       "    </tr>\n",
       "    <tr>\n",
       "      <th>2010-04-01 13:19:55</th>\n",
       "      <td>G0470117</td>\n",
       "      <td>QUA  MINERAL WATER(1000ML)</td>\n",
       "      <td>1</td>\n",
       "      <td>50.0</td>\n",
       "      <td>11.88</td>\n",
       "      <td>0.0</td>\n",
       "      <td>61.88</td>\n",
       "      <td>BEVERAGE</td>\n",
       "      <td>13</td>\n",
       "      <td>Thursday</td>\n",
       "      <td>3</td>\n",
       "      <td>April</td>\n",
       "    </tr>\n",
       "    <tr>\n",
       "      <th>2010-04-01 01:20:18</th>\n",
       "      <td>G0470283</td>\n",
       "      <td>MOROCCAN MINT TEA</td>\n",
       "      <td>1</td>\n",
       "      <td>45.0</td>\n",
       "      <td>10.69</td>\n",
       "      <td>0.0</td>\n",
       "      <td>55.69</td>\n",
       "      <td>BEVERAGE</td>\n",
       "      <td>1</td>\n",
       "      <td>Thursday</td>\n",
       "      <td>3</td>\n",
       "      <td>April</td>\n",
       "    </tr>\n",
       "  </tbody>\n",
       "</table>\n",
       "</div>"
      ],
      "text/plain": [
       "                    Bill Number                        Item Desc  Quantity  \\\n",
       "datetime                                                                     \n",
       "2010-04-01 13:15:11     G0470115  QUA  MINERAL WATER(1000ML)             1   \n",
       "2010-04-01 13:15:11     G0470115  MONSOON MALABAR (AULAIT)               1   \n",
       "2010-04-01 13:17:35     G0470116  MASALA CHAI CUTTING                    1   \n",
       "2010-04-01 13:19:55     G0470117  QUA  MINERAL WATER(1000ML)             1   \n",
       "2010-04-01 01:20:18     G0470283  MOROCCAN MINT TEA                      1   \n",
       "\n",
       "                      Rate    Tax  Discount   Total  Category  hour       Day  \\\n",
       "datetime                                                                        \n",
       "2010-04-01 13:15:11   50.0  11.88       0.0   61.88  BEVERAGE    13  Thursday   \n",
       "2010-04-01 13:15:11  100.0  23.75       0.0  123.75  BEVERAGE    13  Thursday   \n",
       "2010-04-01 13:17:35   40.0   9.50       0.0   49.50  BEVERAGE    13  Thursday   \n",
       "2010-04-01 13:19:55   50.0  11.88       0.0   61.88  BEVERAGE    13  Thursday   \n",
       "2010-04-01 01:20:18   45.0  10.69       0.0   55.69  BEVERAGE     1  Thursday   \n",
       "\n",
       "                     Week  Month  \n",
       "datetime                          \n",
       "2010-04-01 13:15:11     3  April  \n",
       "2010-04-01 13:15:11     3  April  \n",
       "2010-04-01 13:17:35     3  April  \n",
       "2010-04-01 13:19:55     3  April  \n",
       "2010-04-01 01:20:18     3  April  "
      ]
     },
     "execution_count": 285,
     "metadata": {},
     "output_type": "execute_result"
    }
   ],
   "source": [
    "df_copy[\"Month\"]=df_copy.index.month_name()\n",
    "df_copy.head()"
   ]
  },
  {
   "cell_type": "code",
   "execution_count": 293,
   "id": "d2c55e94-e3ad-4882-8195-88d62d400205",
   "metadata": {},
   "outputs": [],
   "source": [
    "df_copy[\"TimeStamp\"]=df_copy.index\n",
    "df_copy.to_excel(\"cafe_sale.xlsx\",index=False)"
   ]
  },
  {
   "cell_type": "code",
   "execution_count": 297,
   "id": "3a230672-ece0-40f7-a473-1fa06e1d66aa",
   "metadata": {},
   "outputs": [
    {
     "data": {
      "text/plain": [
       "hour\n",
       "20    13785\n",
       "19    13559\n",
       "23    12753\n",
       "22    12567\n",
       "18    12218\n",
       "17    11745\n",
       "21    11618\n",
       "0     10658\n",
       "16    10530\n",
       "15     9125\n",
       "14     7380\n",
       "13     6061\n",
       "1      5295\n",
       "12     4947\n",
       "11     2927\n",
       "10      438\n",
       "2        77\n",
       "3        64\n",
       "4        54\n",
       "5        18\n",
       "9        10\n",
       "6         1\n",
       "Name: count, dtype: int64"
      ]
     },
     "execution_count": 297,
     "metadata": {},
     "output_type": "execute_result"
    }
   ],
   "source": [
    "df_copy.hour.value_counts()"
   ]
  },
  {
   "cell_type": "code",
   "execution_count": null,
   "id": "39957bf5-ab14-4d18-b179-1c4ac203e63e",
   "metadata": {},
   "outputs": [],
   "source": []
  }
 ],
 "metadata": {
  "kernelspec": {
   "display_name": "Python 3 (ipykernel)",
   "language": "python",
   "name": "python3"
  },
  "language_info": {
   "codemirror_mode": {
    "name": "ipython",
    "version": 3
   },
   "file_extension": ".py",
   "mimetype": "text/x-python",
   "name": "python",
   "nbconvert_exporter": "python",
   "pygments_lexer": "ipython3",
   "version": "3.11.7"
  }
 },
 "nbformat": 4,
 "nbformat_minor": 5
}
